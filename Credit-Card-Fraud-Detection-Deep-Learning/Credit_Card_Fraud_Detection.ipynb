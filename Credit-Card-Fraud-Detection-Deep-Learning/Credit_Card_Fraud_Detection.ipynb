{
  "nbformat": 4,
  "nbformat_minor": 0,
  "metadata": {
    "colab": {
      "provenance": [],
      "toc_visible": true
    },
    "kernelspec": {
      "name": "python3",
      "display_name": "Python 3"
    },
    "language_info": {
      "name": "python"
    }
  },
  "cells": [
    {
      "cell_type": "markdown",
      "source": [
        "# Introduction\n",
        "\n",
        "Tidak jarang disuatu e-commerce metode pelanggan yang sering digunakan oleh pengguna adalah dengan kartu kredit. Dengan menganalisis menggunakan dataset yang telah kita miliki yang didalamnya berisi transaksi, variabel-variabel, dan sebuah label yang memberitahu bahwa pengguna melakukan kecurangan atau tidak. Kemudian clien meminta kita menganalisis apakah pada transaksi selanjutnya terdapat kecurangan atau tidak. Adapaun contoh tindakan kecurangannya adalah:\n",
        "- Menggunakan kartu kredit orang lain\n",
        "- Lokasi pembelian (IP Address) yang berbeda dengan lokasi alamat pemilik dan Bank pemilik\n",
        "- Waktu transaksi yang bersamaan di lokasi yang berbeda\n",
        "\n",
        "Tantangan untuk menganalisis kecurangan kartu kredit adalah tidak semua transaksi merupakan kecurangan, diestimasi bahwa kecurangan transaksi < 0.5%. Otomatis dataset yang nanti dikelola sangat tidak imbang, karena sebagian besar adalah data yang tidak curang. Sehingga ada tantangan dalam teknik pelabelan untuk menggeneralisir modelnya. Model yang nanti akan digunakan adalah Artificial Neural Network (ANN).\n"
      ],
      "metadata": {
        "id": "80MJXXk7F_FF"
      }
    },
    {
      "cell_type": "markdown",
      "source": [
        "#Import Library & Load Data"
      ],
      "metadata": {
        "id": "s-xVPHICc4_4"
      }
    },
    {
      "cell_type": "code",
      "execution_count": null,
      "metadata": {
        "id": "Pugq0aotF1_y"
      },
      "outputs": [],
      "source": [
        "# import library\n",
        "import pandas as pd\n",
        "import numpy as np\n",
        "import matplotlib.pyplot as plt\n",
        "import seaborn as sns\n",
        "\n",
        "from sklearn.preprocessing import StandardScaler\n",
        "from sklearn.model_selection import train_test_split"
      ]
    },
    {
      "cell_type": "code",
      "source": [
        "data = pd.read_csv('/content/drive/MyDrive/Learn Data/Project Case Study/Credit Card Fraud Detection/data_kartu_kredit.csv')"
      ],
      "metadata": {
        "id": "_5L7uWWldXtz"
      },
      "execution_count": null,
      "outputs": []
    },
    {
      "cell_type": "code",
      "source": [
        "data.head()"
      ],
      "metadata": {
        "colab": {
          "base_uri": "https://localhost:8080/",
          "height": 256
        },
        "id": "hNzNJQubdceG",
        "outputId": "a1ce9dc2-d583-4623-ac18-25f6356b4b40"
      },
      "execution_count": null,
      "outputs": [
        {
          "output_type": "execute_result",
          "data": {
            "text/plain": [
              "   Time        V1        V2        V3        V4        V5        V6        V7  \\\n",
              "0   0.0 -1.359807 -0.072781  2.536347  1.378155 -0.338321  0.462388  0.239599   \n",
              "1   0.0  1.191857  0.266151  0.166480  0.448154  0.060018 -0.082361 -0.078803   \n",
              "2   1.0 -1.358354 -1.340163  1.773209  0.379780 -0.503198  1.800499  0.791461   \n",
              "3   1.0 -0.966272 -0.185226  1.792993 -0.863291 -0.010309  1.247203  0.237609   \n",
              "4   2.0 -1.158233  0.877737  1.548718  0.403034 -0.407193  0.095921  0.592941   \n",
              "\n",
              "         V8        V9  ...       V21       V22       V23       V24       V25  \\\n",
              "0  0.098698  0.363787  ... -0.018307  0.277838 -0.110474  0.066928  0.128539   \n",
              "1  0.085102 -0.255425  ... -0.225775 -0.638672  0.101288 -0.339846  0.167170   \n",
              "2  0.247676 -1.514654  ...  0.247998  0.771679  0.909412 -0.689281 -0.327642   \n",
              "3  0.377436 -1.387024  ... -0.108300  0.005274 -0.190321 -1.175575  0.647376   \n",
              "4 -0.270533  0.817739  ... -0.009431  0.798278 -0.137458  0.141267 -0.206010   \n",
              "\n",
              "        V26       V27       V28  Amount  Class  \n",
              "0 -0.189115  0.133558 -0.021053  149.62      0  \n",
              "1  0.125895 -0.008983  0.014724    2.69      0  \n",
              "2 -0.139097 -0.055353 -0.059752  378.66      0  \n",
              "3 -0.221929  0.062723  0.061458  123.50      0  \n",
              "4  0.502292  0.219422  0.215153   69.99      0  \n",
              "\n",
              "[5 rows x 31 columns]"
            ],
            "text/html": [
              "\n",
              "  <div id=\"df-5499a46a-8dd8-4554-864f-2c97fe4148e2\" class=\"colab-df-container\">\n",
              "    <div>\n",
              "<style scoped>\n",
              "    .dataframe tbody tr th:only-of-type {\n",
              "        vertical-align: middle;\n",
              "    }\n",
              "\n",
              "    .dataframe tbody tr th {\n",
              "        vertical-align: top;\n",
              "    }\n",
              "\n",
              "    .dataframe thead th {\n",
              "        text-align: right;\n",
              "    }\n",
              "</style>\n",
              "<table border=\"1\" class=\"dataframe\">\n",
              "  <thead>\n",
              "    <tr style=\"text-align: right;\">\n",
              "      <th></th>\n",
              "      <th>Time</th>\n",
              "      <th>V1</th>\n",
              "      <th>V2</th>\n",
              "      <th>V3</th>\n",
              "      <th>V4</th>\n",
              "      <th>V5</th>\n",
              "      <th>V6</th>\n",
              "      <th>V7</th>\n",
              "      <th>V8</th>\n",
              "      <th>V9</th>\n",
              "      <th>...</th>\n",
              "      <th>V21</th>\n",
              "      <th>V22</th>\n",
              "      <th>V23</th>\n",
              "      <th>V24</th>\n",
              "      <th>V25</th>\n",
              "      <th>V26</th>\n",
              "      <th>V27</th>\n",
              "      <th>V28</th>\n",
              "      <th>Amount</th>\n",
              "      <th>Class</th>\n",
              "    </tr>\n",
              "  </thead>\n",
              "  <tbody>\n",
              "    <tr>\n",
              "      <th>0</th>\n",
              "      <td>0.0</td>\n",
              "      <td>-1.359807</td>\n",
              "      <td>-0.072781</td>\n",
              "      <td>2.536347</td>\n",
              "      <td>1.378155</td>\n",
              "      <td>-0.338321</td>\n",
              "      <td>0.462388</td>\n",
              "      <td>0.239599</td>\n",
              "      <td>0.098698</td>\n",
              "      <td>0.363787</td>\n",
              "      <td>...</td>\n",
              "      <td>-0.018307</td>\n",
              "      <td>0.277838</td>\n",
              "      <td>-0.110474</td>\n",
              "      <td>0.066928</td>\n",
              "      <td>0.128539</td>\n",
              "      <td>-0.189115</td>\n",
              "      <td>0.133558</td>\n",
              "      <td>-0.021053</td>\n",
              "      <td>149.62</td>\n",
              "      <td>0</td>\n",
              "    </tr>\n",
              "    <tr>\n",
              "      <th>1</th>\n",
              "      <td>0.0</td>\n",
              "      <td>1.191857</td>\n",
              "      <td>0.266151</td>\n",
              "      <td>0.166480</td>\n",
              "      <td>0.448154</td>\n",
              "      <td>0.060018</td>\n",
              "      <td>-0.082361</td>\n",
              "      <td>-0.078803</td>\n",
              "      <td>0.085102</td>\n",
              "      <td>-0.255425</td>\n",
              "      <td>...</td>\n",
              "      <td>-0.225775</td>\n",
              "      <td>-0.638672</td>\n",
              "      <td>0.101288</td>\n",
              "      <td>-0.339846</td>\n",
              "      <td>0.167170</td>\n",
              "      <td>0.125895</td>\n",
              "      <td>-0.008983</td>\n",
              "      <td>0.014724</td>\n",
              "      <td>2.69</td>\n",
              "      <td>0</td>\n",
              "    </tr>\n",
              "    <tr>\n",
              "      <th>2</th>\n",
              "      <td>1.0</td>\n",
              "      <td>-1.358354</td>\n",
              "      <td>-1.340163</td>\n",
              "      <td>1.773209</td>\n",
              "      <td>0.379780</td>\n",
              "      <td>-0.503198</td>\n",
              "      <td>1.800499</td>\n",
              "      <td>0.791461</td>\n",
              "      <td>0.247676</td>\n",
              "      <td>-1.514654</td>\n",
              "      <td>...</td>\n",
              "      <td>0.247998</td>\n",
              "      <td>0.771679</td>\n",
              "      <td>0.909412</td>\n",
              "      <td>-0.689281</td>\n",
              "      <td>-0.327642</td>\n",
              "      <td>-0.139097</td>\n",
              "      <td>-0.055353</td>\n",
              "      <td>-0.059752</td>\n",
              "      <td>378.66</td>\n",
              "      <td>0</td>\n",
              "    </tr>\n",
              "    <tr>\n",
              "      <th>3</th>\n",
              "      <td>1.0</td>\n",
              "      <td>-0.966272</td>\n",
              "      <td>-0.185226</td>\n",
              "      <td>1.792993</td>\n",
              "      <td>-0.863291</td>\n",
              "      <td>-0.010309</td>\n",
              "      <td>1.247203</td>\n",
              "      <td>0.237609</td>\n",
              "      <td>0.377436</td>\n",
              "      <td>-1.387024</td>\n",
              "      <td>...</td>\n",
              "      <td>-0.108300</td>\n",
              "      <td>0.005274</td>\n",
              "      <td>-0.190321</td>\n",
              "      <td>-1.175575</td>\n",
              "      <td>0.647376</td>\n",
              "      <td>-0.221929</td>\n",
              "      <td>0.062723</td>\n",
              "      <td>0.061458</td>\n",
              "      <td>123.50</td>\n",
              "      <td>0</td>\n",
              "    </tr>\n",
              "    <tr>\n",
              "      <th>4</th>\n",
              "      <td>2.0</td>\n",
              "      <td>-1.158233</td>\n",
              "      <td>0.877737</td>\n",
              "      <td>1.548718</td>\n",
              "      <td>0.403034</td>\n",
              "      <td>-0.407193</td>\n",
              "      <td>0.095921</td>\n",
              "      <td>0.592941</td>\n",
              "      <td>-0.270533</td>\n",
              "      <td>0.817739</td>\n",
              "      <td>...</td>\n",
              "      <td>-0.009431</td>\n",
              "      <td>0.798278</td>\n",
              "      <td>-0.137458</td>\n",
              "      <td>0.141267</td>\n",
              "      <td>-0.206010</td>\n",
              "      <td>0.502292</td>\n",
              "      <td>0.219422</td>\n",
              "      <td>0.215153</td>\n",
              "      <td>69.99</td>\n",
              "      <td>0</td>\n",
              "    </tr>\n",
              "  </tbody>\n",
              "</table>\n",
              "<p>5 rows × 31 columns</p>\n",
              "</div>\n",
              "    <div class=\"colab-df-buttons\">\n",
              "\n",
              "  <div class=\"colab-df-container\">\n",
              "    <button class=\"colab-df-convert\" onclick=\"convertToInteractive('df-5499a46a-8dd8-4554-864f-2c97fe4148e2')\"\n",
              "            title=\"Convert this dataframe to an interactive table.\"\n",
              "            style=\"display:none;\">\n",
              "\n",
              "  <svg xmlns=\"http://www.w3.org/2000/svg\" height=\"24px\" viewBox=\"0 -960 960 960\">\n",
              "    <path d=\"M120-120v-720h720v720H120Zm60-500h600v-160H180v160Zm220 220h160v-160H400v160Zm0 220h160v-160H400v160ZM180-400h160v-160H180v160Zm440 0h160v-160H620v160ZM180-180h160v-160H180v160Zm440 0h160v-160H620v160Z\"/>\n",
              "  </svg>\n",
              "    </button>\n",
              "\n",
              "  <style>\n",
              "    .colab-df-container {\n",
              "      display:flex;\n",
              "      gap: 12px;\n",
              "    }\n",
              "\n",
              "    .colab-df-convert {\n",
              "      background-color: #E8F0FE;\n",
              "      border: none;\n",
              "      border-radius: 50%;\n",
              "      cursor: pointer;\n",
              "      display: none;\n",
              "      fill: #1967D2;\n",
              "      height: 32px;\n",
              "      padding: 0 0 0 0;\n",
              "      width: 32px;\n",
              "    }\n",
              "\n",
              "    .colab-df-convert:hover {\n",
              "      background-color: #E2EBFA;\n",
              "      box-shadow: 0px 1px 2px rgba(60, 64, 67, 0.3), 0px 1px 3px 1px rgba(60, 64, 67, 0.15);\n",
              "      fill: #174EA6;\n",
              "    }\n",
              "\n",
              "    .colab-df-buttons div {\n",
              "      margin-bottom: 4px;\n",
              "    }\n",
              "\n",
              "    [theme=dark] .colab-df-convert {\n",
              "      background-color: #3B4455;\n",
              "      fill: #D2E3FC;\n",
              "    }\n",
              "\n",
              "    [theme=dark] .colab-df-convert:hover {\n",
              "      background-color: #434B5C;\n",
              "      box-shadow: 0px 1px 3px 1px rgba(0, 0, 0, 0.15);\n",
              "      filter: drop-shadow(0px 1px 2px rgba(0, 0, 0, 0.3));\n",
              "      fill: #FFFFFF;\n",
              "    }\n",
              "  </style>\n",
              "\n",
              "    <script>\n",
              "      const buttonEl =\n",
              "        document.querySelector('#df-5499a46a-8dd8-4554-864f-2c97fe4148e2 button.colab-df-convert');\n",
              "      buttonEl.style.display =\n",
              "        google.colab.kernel.accessAllowed ? 'block' : 'none';\n",
              "\n",
              "      async function convertToInteractive(key) {\n",
              "        const element = document.querySelector('#df-5499a46a-8dd8-4554-864f-2c97fe4148e2');\n",
              "        const dataTable =\n",
              "          await google.colab.kernel.invokeFunction('convertToInteractive',\n",
              "                                                    [key], {});\n",
              "        if (!dataTable) return;\n",
              "\n",
              "        const docLinkHtml = 'Like what you see? Visit the ' +\n",
              "          '<a target=\"_blank\" href=https://colab.research.google.com/notebooks/data_table.ipynb>data table notebook</a>'\n",
              "          + ' to learn more about interactive tables.';\n",
              "        element.innerHTML = '';\n",
              "        dataTable['output_type'] = 'display_data';\n",
              "        await google.colab.output.renderOutput(dataTable, element);\n",
              "        const docLink = document.createElement('div');\n",
              "        docLink.innerHTML = docLinkHtml;\n",
              "        element.appendChild(docLink);\n",
              "      }\n",
              "    </script>\n",
              "  </div>\n",
              "\n",
              "\n",
              "<div id=\"df-86dc8344-0665-48db-9eca-f2dc3578dd67\">\n",
              "  <button class=\"colab-df-quickchart\" onclick=\"quickchart('df-86dc8344-0665-48db-9eca-f2dc3578dd67')\"\n",
              "            title=\"Suggest charts.\"\n",
              "            style=\"display:none;\">\n",
              "\n",
              "<svg xmlns=\"http://www.w3.org/2000/svg\" height=\"24px\"viewBox=\"0 0 24 24\"\n",
              "     width=\"24px\">\n",
              "    <g>\n",
              "        <path d=\"M19 3H5c-1.1 0-2 .9-2 2v14c0 1.1.9 2 2 2h14c1.1 0 2-.9 2-2V5c0-1.1-.9-2-2-2zM9 17H7v-7h2v7zm4 0h-2V7h2v10zm4 0h-2v-4h2v4z\"/>\n",
              "    </g>\n",
              "</svg>\n",
              "  </button>\n",
              "\n",
              "<style>\n",
              "  .colab-df-quickchart {\n",
              "      --bg-color: #E8F0FE;\n",
              "      --fill-color: #1967D2;\n",
              "      --hover-bg-color: #E2EBFA;\n",
              "      --hover-fill-color: #174EA6;\n",
              "      --disabled-fill-color: #AAA;\n",
              "      --disabled-bg-color: #DDD;\n",
              "  }\n",
              "\n",
              "  [theme=dark] .colab-df-quickchart {\n",
              "      --bg-color: #3B4455;\n",
              "      --fill-color: #D2E3FC;\n",
              "      --hover-bg-color: #434B5C;\n",
              "      --hover-fill-color: #FFFFFF;\n",
              "      --disabled-bg-color: #3B4455;\n",
              "      --disabled-fill-color: #666;\n",
              "  }\n",
              "\n",
              "  .colab-df-quickchart {\n",
              "    background-color: var(--bg-color);\n",
              "    border: none;\n",
              "    border-radius: 50%;\n",
              "    cursor: pointer;\n",
              "    display: none;\n",
              "    fill: var(--fill-color);\n",
              "    height: 32px;\n",
              "    padding: 0;\n",
              "    width: 32px;\n",
              "  }\n",
              "\n",
              "  .colab-df-quickchart:hover {\n",
              "    background-color: var(--hover-bg-color);\n",
              "    box-shadow: 0 1px 2px rgba(60, 64, 67, 0.3), 0 1px 3px 1px rgba(60, 64, 67, 0.15);\n",
              "    fill: var(--button-hover-fill-color);\n",
              "  }\n",
              "\n",
              "  .colab-df-quickchart-complete:disabled,\n",
              "  .colab-df-quickchart-complete:disabled:hover {\n",
              "    background-color: var(--disabled-bg-color);\n",
              "    fill: var(--disabled-fill-color);\n",
              "    box-shadow: none;\n",
              "  }\n",
              "\n",
              "  .colab-df-spinner {\n",
              "    border: 2px solid var(--fill-color);\n",
              "    border-color: transparent;\n",
              "    border-bottom-color: var(--fill-color);\n",
              "    animation:\n",
              "      spin 1s steps(1) infinite;\n",
              "  }\n",
              "\n",
              "  @keyframes spin {\n",
              "    0% {\n",
              "      border-color: transparent;\n",
              "      border-bottom-color: var(--fill-color);\n",
              "      border-left-color: var(--fill-color);\n",
              "    }\n",
              "    20% {\n",
              "      border-color: transparent;\n",
              "      border-left-color: var(--fill-color);\n",
              "      border-top-color: var(--fill-color);\n",
              "    }\n",
              "    30% {\n",
              "      border-color: transparent;\n",
              "      border-left-color: var(--fill-color);\n",
              "      border-top-color: var(--fill-color);\n",
              "      border-right-color: var(--fill-color);\n",
              "    }\n",
              "    40% {\n",
              "      border-color: transparent;\n",
              "      border-right-color: var(--fill-color);\n",
              "      border-top-color: var(--fill-color);\n",
              "    }\n",
              "    60% {\n",
              "      border-color: transparent;\n",
              "      border-right-color: var(--fill-color);\n",
              "    }\n",
              "    80% {\n",
              "      border-color: transparent;\n",
              "      border-right-color: var(--fill-color);\n",
              "      border-bottom-color: var(--fill-color);\n",
              "    }\n",
              "    90% {\n",
              "      border-color: transparent;\n",
              "      border-bottom-color: var(--fill-color);\n",
              "    }\n",
              "  }\n",
              "</style>\n",
              "\n",
              "  <script>\n",
              "    async function quickchart(key) {\n",
              "      const quickchartButtonEl =\n",
              "        document.querySelector('#' + key + ' button');\n",
              "      quickchartButtonEl.disabled = true;  // To prevent multiple clicks.\n",
              "      quickchartButtonEl.classList.add('colab-df-spinner');\n",
              "      try {\n",
              "        const charts = await google.colab.kernel.invokeFunction(\n",
              "            'suggestCharts', [key], {});\n",
              "      } catch (error) {\n",
              "        console.error('Error during call to suggestCharts:', error);\n",
              "      }\n",
              "      quickchartButtonEl.classList.remove('colab-df-spinner');\n",
              "      quickchartButtonEl.classList.add('colab-df-quickchart-complete');\n",
              "    }\n",
              "    (() => {\n",
              "      let quickchartButtonEl =\n",
              "        document.querySelector('#df-86dc8344-0665-48db-9eca-f2dc3578dd67 button');\n",
              "      quickchartButtonEl.style.display =\n",
              "        google.colab.kernel.accessAllowed ? 'block' : 'none';\n",
              "    })();\n",
              "  </script>\n",
              "</div>\n",
              "    </div>\n",
              "  </div>\n"
            ]
          },
          "metadata": {},
          "execution_count": 66
        }
      ]
    },
    {
      "cell_type": "markdown",
      "source": [
        "Deskripsi Variabel\n",
        "- Variabel 'time' adalah waktu pengguna bertransaksi misal dihari ke nol, satu, dua dan berikutnya.\n",
        "- Variabel 'V1' sampai 'V28' adalah nilai yang sudah distandarisasi yang berpusat pada rata-rata nol, data tersebut diharasiakan.\n",
        "- Amount adalah nilai transaksi dalam dolar\n",
        "- Class adalah label yang diberikan perusahaan yang digunakan untuk mendeteksi apakah pengguna tidak curang atau curang."
      ],
      "metadata": {
        "id": "DofYs1AJdoQM"
      }
    },
    {
      "cell_type": "code",
      "source": [
        "data.shape"
      ],
      "metadata": {
        "colab": {
          "base_uri": "https://localhost:8080/"
        },
        "id": "KW9gSpJZfCNK",
        "outputId": "3c1ab95b-04a0-48eb-dbe0-25df18ac9689"
      },
      "execution_count": null,
      "outputs": [
        {
          "output_type": "execute_result",
          "data": {
            "text/plain": [
              "(284807, 31)"
            ]
          },
          "metadata": {},
          "execution_count": 67
        }
      ]
    },
    {
      "cell_type": "markdown",
      "source": [
        "#Data Preparation"
      ],
      "metadata": {
        "id": "xZ0aIEcHfhGY"
      }
    },
    {
      "cell_type": "markdown",
      "source": [
        "Pada dataframe, kolom amount masih berupa nilai asli, untuk itu harus distandarisasikan, agar memudahkan proses modeling. Untuk itu kita akan membuat kolom baru yang diberi nama 'standard' yang berisikan nilai 'Amount' yang sudah di standarisasi."
      ],
      "metadata": {
        "id": "engjdq2wfkRB"
      }
    },
    {
      "cell_type": "code",
      "source": [
        "data['Standard'] = StandardScaler().fit_transform(data['Amount'].values.reshape(-1,1))"
      ],
      "metadata": {
        "id": "1f7973sXfGEJ"
      },
      "execution_count": null,
      "outputs": []
    },
    {
      "cell_type": "code",
      "source": [
        "data.head()"
      ],
      "metadata": {
        "colab": {
          "base_uri": "https://localhost:8080/",
          "height": 256
        },
        "id": "or1_7y22tb4u",
        "outputId": "b3d576b0-070a-4f3c-be2c-a7a91108fe59"
      },
      "execution_count": null,
      "outputs": [
        {
          "output_type": "execute_result",
          "data": {
            "text/plain": [
              "   Time        V1        V2        V3        V4        V5        V6        V7  \\\n",
              "0   0.0 -1.359807 -0.072781  2.536347  1.378155 -0.338321  0.462388  0.239599   \n",
              "1   0.0  1.191857  0.266151  0.166480  0.448154  0.060018 -0.082361 -0.078803   \n",
              "2   1.0 -1.358354 -1.340163  1.773209  0.379780 -0.503198  1.800499  0.791461   \n",
              "3   1.0 -0.966272 -0.185226  1.792993 -0.863291 -0.010309  1.247203  0.237609   \n",
              "4   2.0 -1.158233  0.877737  1.548718  0.403034 -0.407193  0.095921  0.592941   \n",
              "\n",
              "         V8        V9  ...       V22       V23       V24       V25       V26  \\\n",
              "0  0.098698  0.363787  ...  0.277838 -0.110474  0.066928  0.128539 -0.189115   \n",
              "1  0.085102 -0.255425  ... -0.638672  0.101288 -0.339846  0.167170  0.125895   \n",
              "2  0.247676 -1.514654  ...  0.771679  0.909412 -0.689281 -0.327642 -0.139097   \n",
              "3  0.377436 -1.387024  ...  0.005274 -0.190321 -1.175575  0.647376 -0.221929   \n",
              "4 -0.270533  0.817739  ...  0.798278 -0.137458  0.141267 -0.206010  0.502292   \n",
              "\n",
              "        V27       V28  Amount  Class  Standard  \n",
              "0  0.133558 -0.021053  149.62      0  0.244964  \n",
              "1 -0.008983  0.014724    2.69      0 -0.342475  \n",
              "2 -0.055353 -0.059752  378.66      0  1.160686  \n",
              "3  0.062723  0.061458  123.50      0  0.140534  \n",
              "4  0.219422  0.215153   69.99      0 -0.073403  \n",
              "\n",
              "[5 rows x 32 columns]"
            ],
            "text/html": [
              "\n",
              "  <div id=\"df-656cded4-349c-4bd0-ba46-ab9b9ceff8f7\" class=\"colab-df-container\">\n",
              "    <div>\n",
              "<style scoped>\n",
              "    .dataframe tbody tr th:only-of-type {\n",
              "        vertical-align: middle;\n",
              "    }\n",
              "\n",
              "    .dataframe tbody tr th {\n",
              "        vertical-align: top;\n",
              "    }\n",
              "\n",
              "    .dataframe thead th {\n",
              "        text-align: right;\n",
              "    }\n",
              "</style>\n",
              "<table border=\"1\" class=\"dataframe\">\n",
              "  <thead>\n",
              "    <tr style=\"text-align: right;\">\n",
              "      <th></th>\n",
              "      <th>Time</th>\n",
              "      <th>V1</th>\n",
              "      <th>V2</th>\n",
              "      <th>V3</th>\n",
              "      <th>V4</th>\n",
              "      <th>V5</th>\n",
              "      <th>V6</th>\n",
              "      <th>V7</th>\n",
              "      <th>V8</th>\n",
              "      <th>V9</th>\n",
              "      <th>...</th>\n",
              "      <th>V22</th>\n",
              "      <th>V23</th>\n",
              "      <th>V24</th>\n",
              "      <th>V25</th>\n",
              "      <th>V26</th>\n",
              "      <th>V27</th>\n",
              "      <th>V28</th>\n",
              "      <th>Amount</th>\n",
              "      <th>Class</th>\n",
              "      <th>Standard</th>\n",
              "    </tr>\n",
              "  </thead>\n",
              "  <tbody>\n",
              "    <tr>\n",
              "      <th>0</th>\n",
              "      <td>0.0</td>\n",
              "      <td>-1.359807</td>\n",
              "      <td>-0.072781</td>\n",
              "      <td>2.536347</td>\n",
              "      <td>1.378155</td>\n",
              "      <td>-0.338321</td>\n",
              "      <td>0.462388</td>\n",
              "      <td>0.239599</td>\n",
              "      <td>0.098698</td>\n",
              "      <td>0.363787</td>\n",
              "      <td>...</td>\n",
              "      <td>0.277838</td>\n",
              "      <td>-0.110474</td>\n",
              "      <td>0.066928</td>\n",
              "      <td>0.128539</td>\n",
              "      <td>-0.189115</td>\n",
              "      <td>0.133558</td>\n",
              "      <td>-0.021053</td>\n",
              "      <td>149.62</td>\n",
              "      <td>0</td>\n",
              "      <td>0.244964</td>\n",
              "    </tr>\n",
              "    <tr>\n",
              "      <th>1</th>\n",
              "      <td>0.0</td>\n",
              "      <td>1.191857</td>\n",
              "      <td>0.266151</td>\n",
              "      <td>0.166480</td>\n",
              "      <td>0.448154</td>\n",
              "      <td>0.060018</td>\n",
              "      <td>-0.082361</td>\n",
              "      <td>-0.078803</td>\n",
              "      <td>0.085102</td>\n",
              "      <td>-0.255425</td>\n",
              "      <td>...</td>\n",
              "      <td>-0.638672</td>\n",
              "      <td>0.101288</td>\n",
              "      <td>-0.339846</td>\n",
              "      <td>0.167170</td>\n",
              "      <td>0.125895</td>\n",
              "      <td>-0.008983</td>\n",
              "      <td>0.014724</td>\n",
              "      <td>2.69</td>\n",
              "      <td>0</td>\n",
              "      <td>-0.342475</td>\n",
              "    </tr>\n",
              "    <tr>\n",
              "      <th>2</th>\n",
              "      <td>1.0</td>\n",
              "      <td>-1.358354</td>\n",
              "      <td>-1.340163</td>\n",
              "      <td>1.773209</td>\n",
              "      <td>0.379780</td>\n",
              "      <td>-0.503198</td>\n",
              "      <td>1.800499</td>\n",
              "      <td>0.791461</td>\n",
              "      <td>0.247676</td>\n",
              "      <td>-1.514654</td>\n",
              "      <td>...</td>\n",
              "      <td>0.771679</td>\n",
              "      <td>0.909412</td>\n",
              "      <td>-0.689281</td>\n",
              "      <td>-0.327642</td>\n",
              "      <td>-0.139097</td>\n",
              "      <td>-0.055353</td>\n",
              "      <td>-0.059752</td>\n",
              "      <td>378.66</td>\n",
              "      <td>0</td>\n",
              "      <td>1.160686</td>\n",
              "    </tr>\n",
              "    <tr>\n",
              "      <th>3</th>\n",
              "      <td>1.0</td>\n",
              "      <td>-0.966272</td>\n",
              "      <td>-0.185226</td>\n",
              "      <td>1.792993</td>\n",
              "      <td>-0.863291</td>\n",
              "      <td>-0.010309</td>\n",
              "      <td>1.247203</td>\n",
              "      <td>0.237609</td>\n",
              "      <td>0.377436</td>\n",
              "      <td>-1.387024</td>\n",
              "      <td>...</td>\n",
              "      <td>0.005274</td>\n",
              "      <td>-0.190321</td>\n",
              "      <td>-1.175575</td>\n",
              "      <td>0.647376</td>\n",
              "      <td>-0.221929</td>\n",
              "      <td>0.062723</td>\n",
              "      <td>0.061458</td>\n",
              "      <td>123.50</td>\n",
              "      <td>0</td>\n",
              "      <td>0.140534</td>\n",
              "    </tr>\n",
              "    <tr>\n",
              "      <th>4</th>\n",
              "      <td>2.0</td>\n",
              "      <td>-1.158233</td>\n",
              "      <td>0.877737</td>\n",
              "      <td>1.548718</td>\n",
              "      <td>0.403034</td>\n",
              "      <td>-0.407193</td>\n",
              "      <td>0.095921</td>\n",
              "      <td>0.592941</td>\n",
              "      <td>-0.270533</td>\n",
              "      <td>0.817739</td>\n",
              "      <td>...</td>\n",
              "      <td>0.798278</td>\n",
              "      <td>-0.137458</td>\n",
              "      <td>0.141267</td>\n",
              "      <td>-0.206010</td>\n",
              "      <td>0.502292</td>\n",
              "      <td>0.219422</td>\n",
              "      <td>0.215153</td>\n",
              "      <td>69.99</td>\n",
              "      <td>0</td>\n",
              "      <td>-0.073403</td>\n",
              "    </tr>\n",
              "  </tbody>\n",
              "</table>\n",
              "<p>5 rows × 32 columns</p>\n",
              "</div>\n",
              "    <div class=\"colab-df-buttons\">\n",
              "\n",
              "  <div class=\"colab-df-container\">\n",
              "    <button class=\"colab-df-convert\" onclick=\"convertToInteractive('df-656cded4-349c-4bd0-ba46-ab9b9ceff8f7')\"\n",
              "            title=\"Convert this dataframe to an interactive table.\"\n",
              "            style=\"display:none;\">\n",
              "\n",
              "  <svg xmlns=\"http://www.w3.org/2000/svg\" height=\"24px\" viewBox=\"0 -960 960 960\">\n",
              "    <path d=\"M120-120v-720h720v720H120Zm60-500h600v-160H180v160Zm220 220h160v-160H400v160Zm0 220h160v-160H400v160ZM180-400h160v-160H180v160Zm440 0h160v-160H620v160ZM180-180h160v-160H180v160Zm440 0h160v-160H620v160Z\"/>\n",
              "  </svg>\n",
              "    </button>\n",
              "\n",
              "  <style>\n",
              "    .colab-df-container {\n",
              "      display:flex;\n",
              "      gap: 12px;\n",
              "    }\n",
              "\n",
              "    .colab-df-convert {\n",
              "      background-color: #E8F0FE;\n",
              "      border: none;\n",
              "      border-radius: 50%;\n",
              "      cursor: pointer;\n",
              "      display: none;\n",
              "      fill: #1967D2;\n",
              "      height: 32px;\n",
              "      padding: 0 0 0 0;\n",
              "      width: 32px;\n",
              "    }\n",
              "\n",
              "    .colab-df-convert:hover {\n",
              "      background-color: #E2EBFA;\n",
              "      box-shadow: 0px 1px 2px rgba(60, 64, 67, 0.3), 0px 1px 3px 1px rgba(60, 64, 67, 0.15);\n",
              "      fill: #174EA6;\n",
              "    }\n",
              "\n",
              "    .colab-df-buttons div {\n",
              "      margin-bottom: 4px;\n",
              "    }\n",
              "\n",
              "    [theme=dark] .colab-df-convert {\n",
              "      background-color: #3B4455;\n",
              "      fill: #D2E3FC;\n",
              "    }\n",
              "\n",
              "    [theme=dark] .colab-df-convert:hover {\n",
              "      background-color: #434B5C;\n",
              "      box-shadow: 0px 1px 3px 1px rgba(0, 0, 0, 0.15);\n",
              "      filter: drop-shadow(0px 1px 2px rgba(0, 0, 0, 0.3));\n",
              "      fill: #FFFFFF;\n",
              "    }\n",
              "  </style>\n",
              "\n",
              "    <script>\n",
              "      const buttonEl =\n",
              "        document.querySelector('#df-656cded4-349c-4bd0-ba46-ab9b9ceff8f7 button.colab-df-convert');\n",
              "      buttonEl.style.display =\n",
              "        google.colab.kernel.accessAllowed ? 'block' : 'none';\n",
              "\n",
              "      async function convertToInteractive(key) {\n",
              "        const element = document.querySelector('#df-656cded4-349c-4bd0-ba46-ab9b9ceff8f7');\n",
              "        const dataTable =\n",
              "          await google.colab.kernel.invokeFunction('convertToInteractive',\n",
              "                                                    [key], {});\n",
              "        if (!dataTable) return;\n",
              "\n",
              "        const docLinkHtml = 'Like what you see? Visit the ' +\n",
              "          '<a target=\"_blank\" href=https://colab.research.google.com/notebooks/data_table.ipynb>data table notebook</a>'\n",
              "          + ' to learn more about interactive tables.';\n",
              "        element.innerHTML = '';\n",
              "        dataTable['output_type'] = 'display_data';\n",
              "        await google.colab.output.renderOutput(dataTable, element);\n",
              "        const docLink = document.createElement('div');\n",
              "        docLink.innerHTML = docLinkHtml;\n",
              "        element.appendChild(docLink);\n",
              "      }\n",
              "    </script>\n",
              "  </div>\n",
              "\n",
              "\n",
              "<div id=\"df-d74606fc-0c78-45bb-8563-0983257e0dc4\">\n",
              "  <button class=\"colab-df-quickchart\" onclick=\"quickchart('df-d74606fc-0c78-45bb-8563-0983257e0dc4')\"\n",
              "            title=\"Suggest charts.\"\n",
              "            style=\"display:none;\">\n",
              "\n",
              "<svg xmlns=\"http://www.w3.org/2000/svg\" height=\"24px\"viewBox=\"0 0 24 24\"\n",
              "     width=\"24px\">\n",
              "    <g>\n",
              "        <path d=\"M19 3H5c-1.1 0-2 .9-2 2v14c0 1.1.9 2 2 2h14c1.1 0 2-.9 2-2V5c0-1.1-.9-2-2-2zM9 17H7v-7h2v7zm4 0h-2V7h2v10zm4 0h-2v-4h2v4z\"/>\n",
              "    </g>\n",
              "</svg>\n",
              "  </button>\n",
              "\n",
              "<style>\n",
              "  .colab-df-quickchart {\n",
              "      --bg-color: #E8F0FE;\n",
              "      --fill-color: #1967D2;\n",
              "      --hover-bg-color: #E2EBFA;\n",
              "      --hover-fill-color: #174EA6;\n",
              "      --disabled-fill-color: #AAA;\n",
              "      --disabled-bg-color: #DDD;\n",
              "  }\n",
              "\n",
              "  [theme=dark] .colab-df-quickchart {\n",
              "      --bg-color: #3B4455;\n",
              "      --fill-color: #D2E3FC;\n",
              "      --hover-bg-color: #434B5C;\n",
              "      --hover-fill-color: #FFFFFF;\n",
              "      --disabled-bg-color: #3B4455;\n",
              "      --disabled-fill-color: #666;\n",
              "  }\n",
              "\n",
              "  .colab-df-quickchart {\n",
              "    background-color: var(--bg-color);\n",
              "    border: none;\n",
              "    border-radius: 50%;\n",
              "    cursor: pointer;\n",
              "    display: none;\n",
              "    fill: var(--fill-color);\n",
              "    height: 32px;\n",
              "    padding: 0;\n",
              "    width: 32px;\n",
              "  }\n",
              "\n",
              "  .colab-df-quickchart:hover {\n",
              "    background-color: var(--hover-bg-color);\n",
              "    box-shadow: 0 1px 2px rgba(60, 64, 67, 0.3), 0 1px 3px 1px rgba(60, 64, 67, 0.15);\n",
              "    fill: var(--button-hover-fill-color);\n",
              "  }\n",
              "\n",
              "  .colab-df-quickchart-complete:disabled,\n",
              "  .colab-df-quickchart-complete:disabled:hover {\n",
              "    background-color: var(--disabled-bg-color);\n",
              "    fill: var(--disabled-fill-color);\n",
              "    box-shadow: none;\n",
              "  }\n",
              "\n",
              "  .colab-df-spinner {\n",
              "    border: 2px solid var(--fill-color);\n",
              "    border-color: transparent;\n",
              "    border-bottom-color: var(--fill-color);\n",
              "    animation:\n",
              "      spin 1s steps(1) infinite;\n",
              "  }\n",
              "\n",
              "  @keyframes spin {\n",
              "    0% {\n",
              "      border-color: transparent;\n",
              "      border-bottom-color: var(--fill-color);\n",
              "      border-left-color: var(--fill-color);\n",
              "    }\n",
              "    20% {\n",
              "      border-color: transparent;\n",
              "      border-left-color: var(--fill-color);\n",
              "      border-top-color: var(--fill-color);\n",
              "    }\n",
              "    30% {\n",
              "      border-color: transparent;\n",
              "      border-left-color: var(--fill-color);\n",
              "      border-top-color: var(--fill-color);\n",
              "      border-right-color: var(--fill-color);\n",
              "    }\n",
              "    40% {\n",
              "      border-color: transparent;\n",
              "      border-right-color: var(--fill-color);\n",
              "      border-top-color: var(--fill-color);\n",
              "    }\n",
              "    60% {\n",
              "      border-color: transparent;\n",
              "      border-right-color: var(--fill-color);\n",
              "    }\n",
              "    80% {\n",
              "      border-color: transparent;\n",
              "      border-right-color: var(--fill-color);\n",
              "      border-bottom-color: var(--fill-color);\n",
              "    }\n",
              "    90% {\n",
              "      border-color: transparent;\n",
              "      border-bottom-color: var(--fill-color);\n",
              "    }\n",
              "  }\n",
              "</style>\n",
              "\n",
              "  <script>\n",
              "    async function quickchart(key) {\n",
              "      const quickchartButtonEl =\n",
              "        document.querySelector('#' + key + ' button');\n",
              "      quickchartButtonEl.disabled = true;  // To prevent multiple clicks.\n",
              "      quickchartButtonEl.classList.add('colab-df-spinner');\n",
              "      try {\n",
              "        const charts = await google.colab.kernel.invokeFunction(\n",
              "            'suggestCharts', [key], {});\n",
              "      } catch (error) {\n",
              "        console.error('Error during call to suggestCharts:', error);\n",
              "      }\n",
              "      quickchartButtonEl.classList.remove('colab-df-spinner');\n",
              "      quickchartButtonEl.classList.add('colab-df-quickchart-complete');\n",
              "    }\n",
              "    (() => {\n",
              "      let quickchartButtonEl =\n",
              "        document.querySelector('#df-d74606fc-0c78-45bb-8563-0983257e0dc4 button');\n",
              "      quickchartButtonEl.style.display =\n",
              "        google.colab.kernel.accessAllowed ? 'block' : 'none';\n",
              "    })();\n",
              "  </script>\n",
              "</div>\n",
              "    </div>\n",
              "  </div>\n"
            ]
          },
          "metadata": {},
          "execution_count": 69
        }
      ]
    },
    {
      "cell_type": "markdown",
      "source": [
        "Selanjutnya, kita akan mendefinisikan variabel dependen dan variabel independen. kita hanya memerlukan kolom yang sudah distandarisasi, jadi kolom 'Time' dan 'Amount' tidak diikutkan."
      ],
      "metadata": {
        "id": "1I1NAJUntngX"
      }
    },
    {
      "cell_type": "code",
      "source": [
        "# Mendefinisikan variabel dependen (y)\n",
        "y = np.array(data.iloc[:, -2])"
      ],
      "metadata": {
        "id": "rCyuqSr0uMPe"
      },
      "execution_count": null,
      "outputs": []
    },
    {
      "cell_type": "code",
      "source": [
        "# Mendefinisikan variabel independen (X)\n",
        "X = np.array(data.drop(['Time','Amount','Class'], axis=1))"
      ],
      "metadata": {
        "id": "6OlzIW2Iujn9"
      },
      "execution_count": null,
      "outputs": []
    },
    {
      "cell_type": "code",
      "source": [
        "X.shape"
      ],
      "metadata": {
        "colab": {
          "base_uri": "https://localhost:8080/"
        },
        "id": "8AN2Vj_0vQsq",
        "outputId": "ff399a25-b8d2-423a-89a7-a9d9d7ddce7d"
      },
      "execution_count": null,
      "outputs": [
        {
          "output_type": "execute_result",
          "data": {
            "text/plain": [
              "(284807, 29)"
            ]
          },
          "metadata": {},
          "execution_count": 72
        }
      ]
    },
    {
      "cell_type": "markdown",
      "source": [
        "Setelah mempunyai variabel dependen dan variabel independen. Langkah selanjutnya adalah membagi data menjadi training dan test set. Umumnya kita membagi menjadi 80% training dan 20% test set, tetapi kita akan membagi training yang sudah dibagi menjari 80% training dan 20% validasi set.\n",
        "\n",
        "Kegunaannya adalah sebelum model di uji menggunakan test set, kita harus memastika nperformanya bukan performa yang overfitting. Maka dari itu hasil pelatihan pada training set diuji dahulu pada validasi set dan dilihat performanya, jika sudah bagus, maka sudah ready di uji ke test set. Ada banyak metode validasi, yang paling sederhana adalah yang seperti ini, selain itu ada K-Fold Validation."
      ],
      "metadata": {
        "id": "cQ5yBprzvhL4"
      }
    },
    {
      "cell_type": "code",
      "source": [
        "# Membagi data menjadi training set dan test set\n",
        "X_train, X_test, y_train, y_test = train_test_split(X, y, test_size=0.2, random_state=111)"
      ],
      "metadata": {
        "id": "VfEYzENUvgls"
      },
      "execution_count": null,
      "outputs": []
    },
    {
      "cell_type": "code",
      "source": [
        "# Membagi data menjadi training set dan validation set\n",
        "X_train, X_validate, y_train, y_validate = train_test_split(X_train, y_train, test_size=0.2, random_state=111)"
      ],
      "metadata": {
        "id": "65DPZoEt-CwM"
      },
      "execution_count": null,
      "outputs": []
    },
    {
      "cell_type": "markdown",
      "source": [
        "# Create Model Structure"
      ],
      "metadata": {
        "id": "f0KHdV0oWF1F"
      }
    },
    {
      "cell_type": "code",
      "source": [
        "from keras.models import Sequential\n",
        "from keras.layers import Dense, Dropout"
      ],
      "metadata": {
        "id": "PUCD8BTqWRf8"
      },
      "execution_count": null,
      "outputs": []
    },
    {
      "cell_type": "markdown",
      "source": [
        "Keterangan:\n",
        "- Sequential adalah sublibrary dari keras.models yang digunakan untuk membuat layer demi layer.\n",
        "- Dense digunakan untuk menentukan berapa jumlah neuron yang digunakan pada setiap layer.\n",
        "- Dropout digunakan untuk menentukan probabilitas hilangnya node secara random untuk menghilangkan overfitting"
      ],
      "metadata": {
        "id": "AXKLVs4wWYgG"
      }
    },
    {
      "cell_type": "code",
      "source": [
        "# Mendefinisikan objek model\n",
        "classifier = Sequential()"
      ],
      "metadata": {
        "id": "wUuxjVSuW6cH"
      },
      "execution_count": null,
      "outputs": []
    },
    {
      "cell_type": "code",
      "source": [
        "# Menentukan input layer\n",
        "classifier.add(Dense(units=16, input_dim=29, activation='relu'))"
      ],
      "metadata": {
        "id": "-jlRNbVwXFuF"
      },
      "execution_count": null,
      "outputs": []
    },
    {
      "cell_type": "markdown",
      "source": [
        "Catatan:\n",
        "- Angka 29 pada 'input_dim' merepresentasikan jumlah kolom training set, dan hanya digunakan pada input layer.\n",
        "- Kita menggunakan 'input_dim' untuk dataframe berukuran 2 dimensi, jika lebih maka menggunakan 'input_shape'\n",
        "- Input sampai hidden layer menggunakan activation='relu', sedangkan output layer menggunakan 'sigmoid'."
      ],
      "metadata": {
        "id": "4UpLT4Y3Xghc"
      }
    },
    {
      "cell_type": "code",
      "source": [
        "# Menentukan hidden layer\n",
        "classifier.add(Dense(24, activation='relu'))"
      ],
      "metadata": {
        "id": "AWVaREwmYdfR"
      },
      "execution_count": null,
      "outputs": []
    },
    {
      "cell_type": "markdown",
      "source": [
        "Diantara hidden laye pertama, kita akan menambahkan dropout. Ini berguna karena pada saat proses training nanti, cara untuk meminimalisir overfitting, angka yang dimasukkan adalah probabilitas berapa persen saraf/node yang akan dimatikan, umumnya 0.25. Nantinya sebanyak 25% nodes akan dimatikan secara random"
      ],
      "metadata": {
        "id": "821z58MeYyv7"
      }
    },
    {
      "cell_type": "code",
      "source": [
        "# Menambahkan dropout\n",
        "classifier.add(Dropout(0.25))"
      ],
      "metadata": {
        "id": "900w833iZWTb"
      },
      "execution_count": null,
      "outputs": []
    },
    {
      "cell_type": "code",
      "source": [
        "# Menambahkan 2 hidden layer\n",
        "classifier.add(Dense(20, activation='relu'))\n",
        "classifier.add(Dense(24, activation='relu'))"
      ],
      "metadata": {
        "id": "rIEHzfa1Z7mp"
      },
      "execution_count": null,
      "outputs": []
    },
    {
      "cell_type": "markdown",
      "source": [
        "Selanjutnya, kita akan menentukan output layer yang wajib bernilai 1, karena hasil dari proses nanti adalah binary, apakah pengguna fraud atau tidak. dan menggunakan activation='sigmoid'"
      ],
      "metadata": {
        "id": "ZTYz4xdqaHiv"
      }
    },
    {
      "cell_type": "code",
      "source": [
        "# Menentukan output layer\n",
        "classifier.add(Dense(1, activation='sigmoid'))"
      ],
      "metadata": {
        "id": "_fnyEqazaXGf"
      },
      "execution_count": null,
      "outputs": []
    },
    {
      "cell_type": "markdown",
      "source": [
        "Kita harus menentukan parameter, bagaimana caranya struktur model ini dapat belajar. Konsep belajarnya adalah\n",
        "- mencari lembah terendah, yang biasanya dipakai adalah optimizer='adam'.\n",
        "- Semaksimal mungkin meminimalisis loss maka kita gunakan loss='binary_crossentropy', setiap 1 epoch akan diitung lossnya. dan akan dipilih yang terendah.\n",
        "- Matrics dihitung tetapi tidak jadi pertimbangan model sudah bagus atau tidak. Accuracy menghitung berapa kali prediksi sesuai dengan label aslinya."
      ],
      "metadata": {
        "id": "Tep5sSdVanxo"
      }
    },
    {
      "cell_type": "code",
      "source": [
        "# Menentukan beberapa parameter\n",
        "classifier.compile(optimizer='adam', loss='binary_crossentropy', metrics=['accuracy'])"
      ],
      "metadata": {
        "id": "67esjjFjblAH"
      },
      "execution_count": null,
      "outputs": []
    },
    {
      "cell_type": "markdown",
      "source": [
        "Sekarang kita bisa melihat ringkasan dari model kita."
      ],
      "metadata": {
        "id": "vF2BQj3wb2vF"
      }
    },
    {
      "cell_type": "code",
      "source": [
        "classifier.summary()"
      ],
      "metadata": {
        "colab": {
          "base_uri": "https://localhost:8080/"
        },
        "id": "OSKzltE5b6K4",
        "outputId": "0609ba48-8f5f-48c0-9d00-e1b2c27e369b"
      },
      "execution_count": null,
      "outputs": [
        {
          "output_type": "stream",
          "name": "stdout",
          "text": [
            "Model: \"sequential_2\"\n",
            "_________________________________________________________________\n",
            " Layer (type)                Output Shape              Param #   \n",
            "=================================================================\n",
            " dense_10 (Dense)            (None, 16)                480       \n",
            "                                                                 \n",
            " dense_11 (Dense)            (None, 24)                408       \n",
            "                                                                 \n",
            " dropout_2 (Dropout)         (None, 24)                0         \n",
            "                                                                 \n",
            " dense_12 (Dense)            (None, 20)                500       \n",
            "                                                                 \n",
            " dense_13 (Dense)            (None, 24)                504       \n",
            "                                                                 \n",
            " dense_14 (Dense)            (None, 1)                 25        \n",
            "                                                                 \n",
            "=================================================================\n",
            "Total params: 1917 (7.49 KB)\n",
            "Trainable params: 1917 (7.49 KB)\n",
            "Non-trainable params: 0 (0.00 Byte)\n",
            "_________________________________________________________________\n"
          ]
        }
      ]
    },
    {
      "cell_type": "markdown",
      "source": [
        "Jika struktur model ini belum menunjukkan hasil yang bagus, maka kita dapat menjalankan model kembali pada tahap mendefinisikan objek model, lalu mengeksplorasi dan mengubah nilai input."
      ],
      "metadata": {
        "id": "f3g9maEvPaAH"
      }
    },
    {
      "cell_type": "markdown",
      "source": [
        "# Training Process"
      ],
      "metadata": {
        "id": "JVoDOQQeU6yK"
      }
    },
    {
      "cell_type": "markdown",
      "source": [
        "Kita akan menyimpan model pada variabel run_model, yang akan menyimpan semua aktivitas log, sehingga kita dapat memplotkan hasil akurasi pada setiap epoch yang diinginkan."
      ],
      "metadata": {
        "id": "9muiAKNvARWo"
      }
    },
    {
      "cell_type": "code",
      "source": [
        "# Proses Training\n",
        "run_model = classifier.fit(X_train, y_train, batch_size=32,\n",
        "                           epochs=5, verbose=1, validation_data=(X_validate, y_validate))"
      ],
      "metadata": {
        "colab": {
          "base_uri": "https://localhost:8080/"
        },
        "id": "GQ105EWvAfLf",
        "outputId": "cebc0d95-e564-4bb7-c79e-1a508987efaf"
      },
      "execution_count": null,
      "outputs": [
        {
          "output_type": "stream",
          "name": "stdout",
          "text": [
            "Epoch 1/5\n",
            "5697/5697 [==============================] - 20s 3ms/step - loss: 0.0104 - accuracy: 0.9982 - val_loss: 0.0032 - val_accuracy: 0.9994\n",
            "Epoch 2/5\n",
            "5697/5697 [==============================] - 18s 3ms/step - loss: 0.0039 - accuracy: 0.9993 - val_loss: 0.0032 - val_accuracy: 0.9994\n",
            "Epoch 3/5\n",
            "5697/5697 [==============================] - 22s 4ms/step - loss: 0.0035 - accuracy: 0.9994 - val_loss: 0.0030 - val_accuracy: 0.9993\n",
            "Epoch 4/5\n",
            "5697/5697 [==============================] - 18s 3ms/step - loss: 0.0032 - accuracy: 0.9994 - val_loss: 0.0034 - val_accuracy: 0.9994\n",
            "Epoch 5/5\n",
            "5697/5697 [==============================] - 18s 3ms/step - loss: 0.0032 - accuracy: 0.9994 - val_loss: 0.0030 - val_accuracy: 0.9994\n"
          ]
        }
      ]
    },
    {
      "cell_type": "markdown",
      "source": [
        "Penjelasan:\n",
        "1. batch_size diusahakan bernilai yang habis dibagi jumlah data, atau bisa gunakan kelipatan 8.\n",
        "2. Verbose 1 akan menampilkan animasi ketika dijalankan\n",
        "3. epochs bernilai 5, karena kasus ini merupakan kasus sederhana untuk mencari nilai optimumnya."
      ],
      "metadata": {
        "id": "GkYGNVFXAnsR"
      }
    },
    {
      "cell_type": "markdown",
      "source": [
        "Selanjutnya, kita akan melihat parameter apa saja yang disimpan untuk membuat plot nantinya. Kita akan membandingkan accuracy dengan val_accuracy, dan loss dengan val_los."
      ],
      "metadata": {
        "id": "rqo1YJKUB73A"
      }
    },
    {
      "cell_type": "code",
      "source": [
        "# Melihat parameter yang disimpan\n",
        "print(run_model.history.keys())"
      ],
      "metadata": {
        "colab": {
          "base_uri": "https://localhost:8080/"
        },
        "id": "IKUBQ-ClCCK-",
        "outputId": "734385a2-65d2-4a86-c6ef-725c95a9a5a1"
      },
      "execution_count": null,
      "outputs": [
        {
          "output_type": "stream",
          "name": "stdout",
          "text": [
            "dict_keys(['loss', 'accuracy', 'val_loss', 'val_accuracy'])\n"
          ]
        }
      ]
    },
    {
      "cell_type": "code",
      "source": [
        "# Plot accuray training dengan accuracy validation\n",
        "plt.plot(run_model.history['accuracy'])\n",
        "plt.plot(run_model.history['val_accuracy'])\n",
        "plt.title('Model Accuracy')\n",
        "plt.ylabel('Accuracy')\n",
        "plt.xlabel('Epochs')\n",
        "plt.legend(['train','validate'], loc='upper left')\n",
        "plt.show()"
      ],
      "metadata": {
        "colab": {
          "base_uri": "https://localhost:8080/",
          "height": 472
        },
        "id": "wqro76bXCU9U",
        "outputId": "5ea4ff30-7f3e-4ed5-eb5e-ae0890306751"
      },
      "execution_count": null,
      "outputs": [
        {
          "output_type": "display_data",
          "data": {
            "text/plain": [
              "<Figure size 640x480 with 1 Axes>"
            ],
            "image/png": "[encoded data removed]"
          },
          "metadata": {}
        }
      ]
    },
    {
      "cell_type": "markdown",
      "source": [
        "Dari plot diatas, akurasi yang diperoleh cukup mudah. Tetapi data yang dimiliki tidak seimbang, karena banyak label yang bernilai 0 ('Tidak Curang'), daripada yang bernialai 1 ('Curang')."
      ],
      "metadata": {
        "id": "vnyYm9-vDTjp"
      }
    },
    {
      "cell_type": "code",
      "source": [
        "# Plot loss training dengan loss validation\n",
        "plt.plot(run_model.history['loss'])\n",
        "plt.plot(run_model.history['val_loss'])\n",
        "plt.title('Model loss')\n",
        "plt.ylabel('loss')\n",
        "plt.xlabel('Epochs')\n",
        "plt.legend(['train','validate'], loc='upper left')\n",
        "plt.show()"
      ],
      "metadata": {
        "colab": {
          "base_uri": "https://localhost:8080/",
          "height": 472
        },
        "id": "2yXRZt86DvSR",
        "outputId": "d2b302eb-5039-4d11-c3dd-0b3542c2d73b"
      },
      "execution_count": null,
      "outputs": [
        {
          "output_type": "display_data",
          "data": {
            "text/plain": [
              "<Figure size 640x480 with 1 Axes>"
            ],
            "image/png": "[encoded data removed]"
          },
          "metadata": {}
        }
      ]
    },
    {
      "cell_type": "markdown",
      "source": [
        "Kita juga melihat model tidak terjadi overfitting, karena jarak loss tidak terlalu jauh. Tetapi ingat bahwa data yang kita miliki masih belum seimbang."
      ],
      "metadata": {
        "id": "DZN1SPdqD5RU"
      }
    },
    {
      "cell_type": "markdown",
      "source": [
        "# Evaluate & Predict Process"
      ],
      "metadata": {
        "id": "CQWFvBk6ER_n"
      }
    },
    {
      "cell_type": "code",
      "source": [
        "# Mengevaluasi model\n",
        "evaluasi = classifier.evaluate(X_test, y_test)\n",
        "print('Akurasi: {:.2f}'.format(evaluasi[1]*100))"
      ],
      "metadata": {
        "colab": {
          "base_uri": "https://localhost:8080/"
        },
        "id": "kigzlFZCEzF3",
        "outputId": "4318d9c4-51e0-4d0a-d1fc-6d0d811f2b62"
      },
      "execution_count": null,
      "outputs": [
        {
          "output_type": "stream",
          "name": "stdout",
          "text": [
            "1781/1781 [==============================] - 3s 2ms/step - loss: 0.0023 - accuracy: 0.9994\n",
            "Akurasi: 99.94\n"
          ]
        }
      ]
    },
    {
      "cell_type": "markdown",
      "source": [
        "Kita mendapatkan nilai accuracy yang sangat tinggi, tapi nanti kita akan mengetahui karena datanya tidak seimbang, maka nilai di classification reportnya akan diberitahu bahwa data tidak seimbang."
      ],
      "metadata": {
        "id": "04jvCF8IFIzt"
      }
    },
    {
      "cell_type": "code",
      "source": [
        "# Memprediksi test set\n",
        "hasil_prediksi = classifier.predict(X_test)\n",
        "hasil_prediksi = (hasil_prediksi > 0.5).astype(int)"
      ],
      "metadata": {
        "colab": {
          "base_uri": "https://localhost:8080/"
        },
        "id": "jo0UbPSwFhm-",
        "outputId": "58b2c8ac-d14d-4ac8-f4a0-688bac8e09cf"
      },
      "execution_count": null,
      "outputs": [
        {
          "output_type": "stream",
          "name": "stdout",
          "text": [
            "1781/1781 [==============================] - 3s 2ms/step\n"
          ]
        }
      ]
    },
    {
      "cell_type": "code",
      "source": [
        "print(hasil_prediksi)"
      ],
      "metadata": {
        "colab": {
          "base_uri": "https://localhost:8080/"
        },
        "id": "9u3ceAonGULD",
        "outputId": "6960d8bf-0c88-4aa5-fc76-fcf43379ac25"
      },
      "execution_count": null,
      "outputs": [
        {
          "output_type": "stream",
          "name": "stdout",
          "text": [
            "[[0]\n",
            " [0]\n",
            " [0]\n",
            " ...\n",
            " [0]\n",
            " [0]\n",
            " [0]]\n"
          ]
        }
      ]
    },
    {
      "cell_type": "markdown",
      "source": [
        "Selanjutnya, kita akan membuat confusion matrix untuk mengetahui lebih detail informasi akurasinya"
      ],
      "metadata": {
        "id": "qX1t94m0GvsL"
      }
    },
    {
      "cell_type": "code",
      "source": [
        "# Membuat confusion matrix\n",
        "from sklearn.metrics import confusion_matrix\n",
        "cm = confusion_matrix(y_test, hasil_prediksi)"
      ],
      "metadata": {
        "id": "cc-MVP-sG3Xi"
      },
      "execution_count": null,
      "outputs": []
    },
    {
      "cell_type": "code",
      "source": [
        "# Membuat plot hasil confusion matrix\n",
        "cm_label = pd.DataFrame(cm, columns=np.unique(y_test), index=np.unique(y_test))\n",
        "cm_label.index.name = 'Aktual'\n",
        "cm_label.columns.name = 'Prediksi'\n",
        "\n",
        "sns.heatmap(cm_label, annot=True, cmap='Reds', fmt='g')"
      ],
      "metadata": {
        "colab": {
          "base_uri": "https://localhost:8080/",
          "height": 467
        },
        "id": "U3BJrE5pHsHN",
        "outputId": "9063e542-28bd-4a96-c511-6fa6f75c3d29"
      },
      "execution_count": null,
      "outputs": [
        {
          "output_type": "execute_result",
          "data": {
            "text/plain": [
              "<Axes: xlabel='Prediksi', ylabel='Aktual'>"
            ]
          },
          "metadata": {},
          "execution_count": 92
        },
        {
          "output_type": "display_data",
          "data": {
            "text/plain": [
              "<Figure size 640x480 with 2 Axes>"
            ],
            "image/png": "[encoded data removed]"
          },
          "metadata": {}
        }
      ]
    },
    {
      "cell_type": "markdown",
      "source": [
        "Dari hasil plot diatas, bisa dilihat bahwa label 0 yang diprediksi 0 berhasil sebanyak 5ribu kali, dan yang salah diprediksi sebanyak 13 kali. Dari sini sudah kelihatan bahwa data tidak seimbang, seakan-akan model lebih banyak belajar data yang berlabel 0."
      ],
      "metadata": {
        "id": "YAXVDLptJR_S"
      }
    },
    {
      "cell_type": "code",
      "source": [
        "# Membuat clasification report\n",
        "from sklearn.metrics import classification_report\n",
        "jumlah_kategori = 2\n",
        "target_names = ['Class {}'.format(i) for i in range(jumlah_kategori)]\n",
        "print(classification_report(y_test, hasil_prediksi, target_names=target_names))"
      ],
      "metadata": {
        "colab": {
          "base_uri": "https://localhost:8080/"
        },
        "id": "BJlihdNANRgr",
        "outputId": "5c61b518-e484-4682-e34c-803648959c06"
      },
      "execution_count": null,
      "outputs": [
        {
          "output_type": "stream",
          "name": "stdout",
          "text": [
            "              precision    recall  f1-score   support\n",
            "\n",
            "     Class 0       1.00      1.00      1.00     56861\n",
            "     Class 1       0.81      0.86      0.83       101\n",
            "\n",
            "    accuracy                           1.00     56962\n",
            "   macro avg       0.90      0.93      0.92     56962\n",
            "weighted avg       1.00      1.00      1.00     56962\n",
            "\n"
          ]
        }
      ]
    },
    {
      "cell_type": "markdown",
      "source": [
        "Pada kolom support data menunjukan bahwa tidak seimbang, sehingga data lebih pintar mempelejari label 0 daripada lebal 1. Karena data terlalu banyak belajar label 0. Dikhawatirkan jika berhadapan dengan data baru yang banyak label 1, model tidak dapat memprosesnyaa."
      ],
      "metadata": {
        "id": "-qZcW8U6N1Sc"
      }
    },
    {
      "cell_type": "markdown",
      "source": [
        "# Under-Sampling Technique"
      ],
      "metadata": {
        "id": "2vfxM7orOLXj"
      }
    },
    {
      "cell_type": "markdown",
      "source": [
        "Under-Sampling adalah mengambil secara ajak jumlah label yang bernilai 0 sebanyak jumlah label yang bernilai 1. Kebalikannya adalah Over-Sampling yaitu jumlah label 0 tetap dipertahankan dan label 1 dipakai berkali-kali sampai jumlahnya mendekati label 0, tapi kelemahannya adalah menciptakan banyak sekali data duplikasi jika label 1 nya sedikit. Untuk itu pada kasus ini, kita menggunakan Under-Sampling"
      ],
      "metadata": {
        "id": "Wd1xv7pMqlBH"
      }
    },
    {
      "cell_type": "code",
      "source": [
        "# Mengambil jumlah index label 1\n",
        "index_fraud = np.array(data[data.Class==1].index)\n",
        "n_fraud = len(index_fraud)\n",
        "print(n_fraud)"
      ],
      "metadata": {
        "colab": {
          "base_uri": "https://localhost:8080/"
        },
        "id": "IpX1vhsfrq2L",
        "outputId": "e034d334-be3c-4b3e-90fd-762b64242567"
      },
      "execution_count": null,
      "outputs": [
        {
          "output_type": "stream",
          "name": "stdout",
          "text": [
            "492\n"
          ]
        }
      ]
    },
    {
      "cell_type": "code",
      "source": [
        "# Mengambil jumlah index label 0 secara acak berdasarkan jumlah label 1\n",
        "index_no_fraud = np.array(data[data.Class==0].index)\n",
        "index_data_no_fraud = np.random.choice(index_no_fraud, n_fraud, replace=False)"
      ],
      "metadata": {
        "id": "-rsvWrXOtvRA"
      },
      "execution_count": null,
      "outputs": []
    },
    {
      "cell_type": "code",
      "source": [
        "print(len(index_data_no_fraud))"
      ],
      "metadata": {
        "colab": {
          "base_uri": "https://localhost:8080/"
        },
        "id": "SxpJQD7nvg37",
        "outputId": "493a2c2a-24c4-47ee-d415-0f39caf91101"
      },
      "execution_count": null,
      "outputs": [
        {
          "output_type": "stream",
          "name": "stdout",
          "text": [
            "492\n"
          ]
        }
      ]
    },
    {
      "cell_type": "code",
      "source": [
        "# Menggabungkan jumlah index label 1 dan label 0\n",
        "index_data_baru = np.concatenate([index_fraud, index_data_no_fraud])\n",
        "data_baru = data.iloc[index_data_baru,:]"
      ],
      "metadata": {
        "id": "6TqImkK7uLG0"
      },
      "execution_count": null,
      "outputs": []
    },
    {
      "cell_type": "code",
      "source": [
        "print(data_baru.shape)\n",
        "data_baru.head()"
      ],
      "metadata": {
        "colab": {
          "base_uri": "https://localhost:8080/",
          "height": 273
        },
        "id": "9RAjEaMUutrv",
        "outputId": "3ec79ad9-5cfa-4ace-f26f-1ab5fa6f980e"
      },
      "execution_count": null,
      "outputs": [
        {
          "output_type": "stream",
          "name": "stdout",
          "text": [
            "(984, 32)\n"
          ]
        },
        {
          "output_type": "execute_result",
          "data": {
            "text/plain": [
              "        Time        V1        V2        V3        V4        V5        V6  \\\n",
              "541    406.0 -2.312227  1.951992 -1.609851  3.997906 -0.522188 -1.426545   \n",
              "623    472.0 -3.043541 -3.157307  1.088463  2.288644  1.359805 -1.064823   \n",
              "4920  4462.0 -2.303350  1.759247 -0.359745  2.330243 -0.821628 -0.075788   \n",
              "6108  6986.0 -4.397974  1.358367 -2.592844  2.679787 -1.128131 -1.706536   \n",
              "6329  7519.0  1.234235  3.019740 -4.304597  4.732795  3.624201 -1.357746   \n",
              "\n",
              "            V7        V8        V9  ...       V22       V23       V24  \\\n",
              "541  -2.537387  1.391657 -2.770089  ... -0.035049 -0.465211  0.320198   \n",
              "623   0.325574 -0.067794 -0.270953  ...  0.435477  1.375966 -0.293803   \n",
              "4920  0.562320 -0.399147 -0.238253  ... -0.932391  0.172726 -0.087330   \n",
              "6108 -3.496197 -0.248778 -0.247768  ...  0.176968 -0.436207 -0.053502   \n",
              "6329  1.713445 -0.496358 -1.282858  ... -0.704181 -0.656805 -1.632653   \n",
              "\n",
              "           V25       V26       V27       V28  Amount  Class  Standard  \n",
              "541   0.044519  0.177840  0.261145 -0.143276    0.00      1 -0.353229  \n",
              "623   0.279798 -0.145362 -0.252773  0.035764  529.00      1  1.761758  \n",
              "4920 -0.156114 -0.542628  0.039566 -0.153029  239.93      1  0.606031  \n",
              "6108  0.252405 -0.657488 -0.827136  0.849573   59.00      1 -0.117342  \n",
              "6329  1.488901  0.566797 -0.010016  0.146793    1.00      1 -0.349231  \n",
              "\n",
              "[5 rows x 32 columns]"
            ],
            "text/html": [
              "\n",
              "  <div id=\"df-13777835-f3c2-4ed4-8f64-61f7ccd38af9\" class=\"colab-df-container\">\n",
              "    <div>\n",
              "<style scoped>\n",
              "    .dataframe tbody tr th:only-of-type {\n",
              "        vertical-align: middle;\n",
              "    }\n",
              "\n",
              "    .dataframe tbody tr th {\n",
              "        vertical-align: top;\n",
              "    }\n",
              "\n",
              "    .dataframe thead th {\n",
              "        text-align: right;\n",
              "    }\n",
              "</style>\n",
              "<table border=\"1\" class=\"dataframe\">\n",
              "  <thead>\n",
              "    <tr style=\"text-align: right;\">\n",
              "      <th></th>\n",
              "      <th>Time</th>\n",
              "      <th>V1</th>\n",
              "      <th>V2</th>\n",
              "      <th>V3</th>\n",
              "      <th>V4</th>\n",
              "      <th>V5</th>\n",
              "      <th>V6</th>\n",
              "      <th>V7</th>\n",
              "      <th>V8</th>\n",
              "      <th>V9</th>\n",
              "      <th>...</th>\n",
              "      <th>V22</th>\n",
              "      <th>V23</th>\n",
              "      <th>V24</th>\n",
              "      <th>V25</th>\n",
              "      <th>V26</th>\n",
              "      <th>V27</th>\n",
              "      <th>V28</th>\n",
              "      <th>Amount</th>\n",
              "      <th>Class</th>\n",
              "      <th>Standard</th>\n",
              "    </tr>\n",
              "  </thead>\n",
              "  <tbody>\n",
              "    <tr>\n",
              "      <th>541</th>\n",
              "      <td>406.0</td>\n",
              "      <td>-2.312227</td>\n",
              "      <td>1.951992</td>\n",
              "      <td>-1.609851</td>\n",
              "      <td>3.997906</td>\n",
              "      <td>-0.522188</td>\n",
              "      <td>-1.426545</td>\n",
              "      <td>-2.537387</td>\n",
              "      <td>1.391657</td>\n",
              "      <td>-2.770089</td>\n",
              "      <td>...</td>\n",
              "      <td>-0.035049</td>\n",
              "      <td>-0.465211</td>\n",
              "      <td>0.320198</td>\n",
              "      <td>0.044519</td>\n",
              "      <td>0.177840</td>\n",
              "      <td>0.261145</td>\n",
              "      <td>-0.143276</td>\n",
              "      <td>0.00</td>\n",
              "      <td>1</td>\n",
              "      <td>-0.353229</td>\n",
              "    </tr>\n",
              "    <tr>\n",
              "      <th>623</th>\n",
              "      <td>472.0</td>\n",
              "      <td>-3.043541</td>\n",
              "      <td>-3.157307</td>\n",
              "      <td>1.088463</td>\n",
              "      <td>2.288644</td>\n",
              "      <td>1.359805</td>\n",
              "      <td>-1.064823</td>\n",
              "      <td>0.325574</td>\n",
              "      <td>-0.067794</td>\n",
              "      <td>-0.270953</td>\n",
              "      <td>...</td>\n",
              "      <td>0.435477</td>\n",
              "      <td>1.375966</td>\n",
              "      <td>-0.293803</td>\n",
              "      <td>0.279798</td>\n",
              "      <td>-0.145362</td>\n",
              "      <td>-0.252773</td>\n",
              "      <td>0.035764</td>\n",
              "      <td>529.00</td>\n",
              "      <td>1</td>\n",
              "      <td>1.761758</td>\n",
              "    </tr>\n",
              "    <tr>\n",
              "      <th>4920</th>\n",
              "      <td>4462.0</td>\n",
              "      <td>-2.303350</td>\n",
              "      <td>1.759247</td>\n",
              "      <td>-0.359745</td>\n",
              "      <td>2.330243</td>\n",
              "      <td>-0.821628</td>\n",
              "      <td>-0.075788</td>\n",
              "      <td>0.562320</td>\n",
              "      <td>-0.399147</td>\n",
              "      <td>-0.238253</td>\n",
              "      <td>...</td>\n",
              "      <td>-0.932391</td>\n",
              "      <td>0.172726</td>\n",
              "      <td>-0.087330</td>\n",
              "      <td>-0.156114</td>\n",
              "      <td>-0.542628</td>\n",
              "      <td>0.039566</td>\n",
              "      <td>-0.153029</td>\n",
              "      <td>239.93</td>\n",
              "      <td>1</td>\n",
              "      <td>0.606031</td>\n",
              "    </tr>\n",
              "    <tr>\n",
              "      <th>6108</th>\n",
              "      <td>6986.0</td>\n",
              "      <td>-4.397974</td>\n",
              "      <td>1.358367</td>\n",
              "      <td>-2.592844</td>\n",
              "      <td>2.679787</td>\n",
              "      <td>-1.128131</td>\n",
              "      <td>-1.706536</td>\n",
              "      <td>-3.496197</td>\n",
              "      <td>-0.248778</td>\n",
              "      <td>-0.247768</td>\n",
              "      <td>...</td>\n",
              "      <td>0.176968</td>\n",
              "      <td>-0.436207</td>\n",
              "      <td>-0.053502</td>\n",
              "      <td>0.252405</td>\n",
              "      <td>-0.657488</td>\n",
              "      <td>-0.827136</td>\n",
              "      <td>0.849573</td>\n",
              "      <td>59.00</td>\n",
              "      <td>1</td>\n",
              "      <td>-0.117342</td>\n",
              "    </tr>\n",
              "    <tr>\n",
              "      <th>6329</th>\n",
              "      <td>7519.0</td>\n",
              "      <td>1.234235</td>\n",
              "      <td>3.019740</td>\n",
              "      <td>-4.304597</td>\n",
              "      <td>4.732795</td>\n",
              "      <td>3.624201</td>\n",
              "      <td>-1.357746</td>\n",
              "      <td>1.713445</td>\n",
              "      <td>-0.496358</td>\n",
              "      <td>-1.282858</td>\n",
              "      <td>...</td>\n",
              "      <td>-0.704181</td>\n",
              "      <td>-0.656805</td>\n",
              "      <td>-1.632653</td>\n",
              "      <td>1.488901</td>\n",
              "      <td>0.566797</td>\n",
              "      <td>-0.010016</td>\n",
              "      <td>0.146793</td>\n",
              "      <td>1.00</td>\n",
              "      <td>1</td>\n",
              "      <td>-0.349231</td>\n",
              "    </tr>\n",
              "  </tbody>\n",
              "</table>\n",
              "<p>5 rows × 32 columns</p>\n",
              "</div>\n",
              "    <div class=\"colab-df-buttons\">\n",
              "\n",
              "  <div class=\"colab-df-container\">\n",
              "    <button class=\"colab-df-convert\" onclick=\"convertToInteractive('df-13777835-f3c2-4ed4-8f64-61f7ccd38af9')\"\n",
              "            title=\"Convert this dataframe to an interactive table.\"\n",
              "            style=\"display:none;\">\n",
              "\n",
              "  <svg xmlns=\"http://www.w3.org/2000/svg\" height=\"24px\" viewBox=\"0 -960 960 960\">\n",
              "    <path d=\"M120-120v-720h720v720H120Zm60-500h600v-160H180v160Zm220 220h160v-160H400v160Zm0 220h160v-160H400v160ZM180-400h160v-160H180v160Zm440 0h160v-160H620v160ZM180-180h160v-160H180v160Zm440 0h160v-160H620v160Z\"/>\n",
              "  </svg>\n",
              "    </button>\n",
              "\n",
              "  <style>\n",
              "    .colab-df-container {\n",
              "      display:flex;\n",
              "      gap: 12px;\n",
              "    }\n",
              "\n",
              "    .colab-df-convert {\n",
              "      background-color: #E8F0FE;\n",
              "      border: none;\n",
              "      border-radius: 50%;\n",
              "      cursor: pointer;\n",
              "      display: none;\n",
              "      fill: #1967D2;\n",
              "      height: 32px;\n",
              "      padding: 0 0 0 0;\n",
              "      width: 32px;\n",
              "    }\n",
              "\n",
              "    .colab-df-convert:hover {\n",
              "      background-color: #E2EBFA;\n",
              "      box-shadow: 0px 1px 2px rgba(60, 64, 67, 0.3), 0px 1px 3px 1px rgba(60, 64, 67, 0.15);\n",
              "      fill: #174EA6;\n",
              "    }\n",
              "\n",
              "    .colab-df-buttons div {\n",
              "      margin-bottom: 4px;\n",
              "    }\n",
              "\n",
              "    [theme=dark] .colab-df-convert {\n",
              "      background-color: #3B4455;\n",
              "      fill: #D2E3FC;\n",
              "    }\n",
              "\n",
              "    [theme=dark] .colab-df-convert:hover {\n",
              "      background-color: #434B5C;\n",
              "      box-shadow: 0px 1px 3px 1px rgba(0, 0, 0, 0.15);\n",
              "      filter: drop-shadow(0px 1px 2px rgba(0, 0, 0, 0.3));\n",
              "      fill: #FFFFFF;\n",
              "    }\n",
              "  </style>\n",
              "\n",
              "    <script>\n",
              "      const buttonEl =\n",
              "        document.querySelector('#df-13777835-f3c2-4ed4-8f64-61f7ccd38af9 button.colab-df-convert');\n",
              "      buttonEl.style.display =\n",
              "        google.colab.kernel.accessAllowed ? 'block' : 'none';\n",
              "\n",
              "      async function convertToInteractive(key) {\n",
              "        const element = document.querySelector('#df-13777835-f3c2-4ed4-8f64-61f7ccd38af9');\n",
              "        const dataTable =\n",
              "          await google.colab.kernel.invokeFunction('convertToInteractive',\n",
              "                                                    [key], {});\n",
              "        if (!dataTable) return;\n",
              "\n",
              "        const docLinkHtml = 'Like what you see? Visit the ' +\n",
              "          '<a target=\"_blank\" href=https://colab.research.google.com/notebooks/data_table.ipynb>data table notebook</a>'\n",
              "          + ' to learn more about interactive tables.';\n",
              "        element.innerHTML = '';\n",
              "        dataTable['output_type'] = 'display_data';\n",
              "        await google.colab.output.renderOutput(dataTable, element);\n",
              "        const docLink = document.createElement('div');\n",
              "        docLink.innerHTML = docLinkHtml;\n",
              "        element.appendChild(docLink);\n",
              "      }\n",
              "    </script>\n",
              "  </div>\n",
              "\n",
              "\n",
              "<div id=\"df-1d1b82ed-447e-482b-abe0-5e1f4f77b9cb\">\n",
              "  <button class=\"colab-df-quickchart\" onclick=\"quickchart('df-1d1b82ed-447e-482b-abe0-5e1f4f77b9cb')\"\n",
              "            title=\"Suggest charts.\"\n",
              "            style=\"display:none;\">\n",
              "\n",
              "<svg xmlns=\"http://www.w3.org/2000/svg\" height=\"24px\"viewBox=\"0 0 24 24\"\n",
              "     width=\"24px\">\n",
              "    <g>\n",
              "        <path d=\"M19 3H5c-1.1 0-2 .9-2 2v14c0 1.1.9 2 2 2h14c1.1 0 2-.9 2-2V5c0-1.1-.9-2-2-2zM9 17H7v-7h2v7zm4 0h-2V7h2v10zm4 0h-2v-4h2v4z\"/>\n",
              "    </g>\n",
              "</svg>\n",
              "  </button>\n",
              "\n",
              "<style>\n",
              "  .colab-df-quickchart {\n",
              "      --bg-color: #E8F0FE;\n",
              "      --fill-color: #1967D2;\n",
              "      --hover-bg-color: #E2EBFA;\n",
              "      --hover-fill-color: #174EA6;\n",
              "      --disabled-fill-color: #AAA;\n",
              "      --disabled-bg-color: #DDD;\n",
              "  }\n",
              "\n",
              "  [theme=dark] .colab-df-quickchart {\n",
              "      --bg-color: #3B4455;\n",
              "      --fill-color: #D2E3FC;\n",
              "      --hover-bg-color: #434B5C;\n",
              "      --hover-fill-color: #FFFFFF;\n",
              "      --disabled-bg-color: #3B4455;\n",
              "      --disabled-fill-color: #666;\n",
              "  }\n",
              "\n",
              "  .colab-df-quickchart {\n",
              "    background-color: var(--bg-color);\n",
              "    border: none;\n",
              "    border-radius: 50%;\n",
              "    cursor: pointer;\n",
              "    display: none;\n",
              "    fill: var(--fill-color);\n",
              "    height: 32px;\n",
              "    padding: 0;\n",
              "    width: 32px;\n",
              "  }\n",
              "\n",
              "  .colab-df-quickchart:hover {\n",
              "    background-color: var(--hover-bg-color);\n",
              "    box-shadow: 0 1px 2px rgba(60, 64, 67, 0.3), 0 1px 3px 1px rgba(60, 64, 67, 0.15);\n",
              "    fill: var(--button-hover-fill-color);\n",
              "  }\n",
              "\n",
              "  .colab-df-quickchart-complete:disabled,\n",
              "  .colab-df-quickchart-complete:disabled:hover {\n",
              "    background-color: var(--disabled-bg-color);\n",
              "    fill: var(--disabled-fill-color);\n",
              "    box-shadow: none;\n",
              "  }\n",
              "\n",
              "  .colab-df-spinner {\n",
              "    border: 2px solid var(--fill-color);\n",
              "    border-color: transparent;\n",
              "    border-bottom-color: var(--fill-color);\n",
              "    animation:\n",
              "      spin 1s steps(1) infinite;\n",
              "  }\n",
              "\n",
              "  @keyframes spin {\n",
              "    0% {\n",
              "      border-color: transparent;\n",
              "      border-bottom-color: var(--fill-color);\n",
              "      border-left-color: var(--fill-color);\n",
              "    }\n",
              "    20% {\n",
              "      border-color: transparent;\n",
              "      border-left-color: var(--fill-color);\n",
              "      border-top-color: var(--fill-color);\n",
              "    }\n",
              "    30% {\n",
              "      border-color: transparent;\n",
              "      border-left-color: var(--fill-color);\n",
              "      border-top-color: var(--fill-color);\n",
              "      border-right-color: var(--fill-color);\n",
              "    }\n",
              "    40% {\n",
              "      border-color: transparent;\n",
              "      border-right-color: var(--fill-color);\n",
              "      border-top-color: var(--fill-color);\n",
              "    }\n",
              "    60% {\n",
              "      border-color: transparent;\n",
              "      border-right-color: var(--fill-color);\n",
              "    }\n",
              "    80% {\n",
              "      border-color: transparent;\n",
              "      border-right-color: var(--fill-color);\n",
              "      border-bottom-color: var(--fill-color);\n",
              "    }\n",
              "    90% {\n",
              "      border-color: transparent;\n",
              "      border-bottom-color: var(--fill-color);\n",
              "    }\n",
              "  }\n",
              "</style>\n",
              "\n",
              "  <script>\n",
              "    async function quickchart(key) {\n",
              "      const quickchartButtonEl =\n",
              "        document.querySelector('#' + key + ' button');\n",
              "      quickchartButtonEl.disabled = true;  // To prevent multiple clicks.\n",
              "      quickchartButtonEl.classList.add('colab-df-spinner');\n",
              "      try {\n",
              "        const charts = await google.colab.kernel.invokeFunction(\n",
              "            'suggestCharts', [key], {});\n",
              "      } catch (error) {\n",
              "        console.error('Error during call to suggestCharts:', error);\n",
              "      }\n",
              "      quickchartButtonEl.classList.remove('colab-df-spinner');\n",
              "      quickchartButtonEl.classList.add('colab-df-quickchart-complete');\n",
              "    }\n",
              "    (() => {\n",
              "      let quickchartButtonEl =\n",
              "        document.querySelector('#df-1d1b82ed-447e-482b-abe0-5e1f4f77b9cb button');\n",
              "      quickchartButtonEl.style.display =\n",
              "        google.colab.kernel.accessAllowed ? 'block' : 'none';\n",
              "    })();\n",
              "  </script>\n",
              "</div>\n",
              "    </div>\n",
              "  </div>\n"
            ]
          },
          "metadata": {},
          "execution_count": 98
        }
      ]
    },
    {
      "cell_type": "markdown",
      "source": [
        "# Train Test Split"
      ],
      "metadata": {
        "id": "MygkTiV_v3cs"
      }
    },
    {
      "cell_type": "code",
      "source": [
        "# Mendefinisikan variabel dependen (y)\n",
        "y_baru = np.array(data_baru.iloc[:, -2])\n",
        "\n",
        "# Mendefinisikan variabel independen (X)\n",
        "X_baru = np.array(data_baru.drop(['Time','Amount','Class'], axis=1))"
      ],
      "metadata": {
        "id": "OA4bbKntwLoK"
      },
      "execution_count": null,
      "outputs": []
    },
    {
      "cell_type": "code",
      "source": [
        "# Membagi train dan test set\n",
        "X_train2, X_test_final, y_train2, y_test_final = train_test_split(X_baru, y_baru,\n",
        "                                                                  test_size=0.1,\n",
        "                                                                  random_state=111)"
      ],
      "metadata": {
        "id": "Mn4tieN3wdca"
      },
      "execution_count": null,
      "outputs": []
    },
    {
      "cell_type": "markdown",
      "source": [
        "X_test_final dan y_test_final akan gunakan untuk mengtest model kita pada data yang sudah seimbang nantinya. Selanjutnya kita akan membagi lagi training set ke dalam test set dan validate set."
      ],
      "metadata": {
        "id": "YlbBh71Uw_tB"
      }
    },
    {
      "cell_type": "code",
      "source": [
        "# Membagi train dan test set\n",
        "X_train2, X_test2, y_train2, y_test2 = train_test_split(X_train2, y_train2,\n",
        "                                                                  test_size=0.1,\n",
        "                                                                  random_state=111)"
      ],
      "metadata": {
        "id": "adiePAo8xYDw"
      },
      "execution_count": null,
      "outputs": []
    },
    {
      "cell_type": "code",
      "source": [
        "# Membagi train dan validate set\n",
        "X_train2, X_validate2, y_train2, y_validate2 = train_test_split(X_train2, y_train2,\n",
        "                                                                  test_size=0.2,\n",
        "                                                                  random_state=111)"
      ],
      "metadata": {
        "id": "1pon9cdUxxIA"
      },
      "execution_count": null,
      "outputs": []
    },
    {
      "cell_type": "markdown",
      "source": [
        "Jadi model yang sudah seimbang nanti, di validasi di validate2, dan diuji test2. Namun apakah kita yakin model kita sudah bagus? Maka untuk mengujinya kita uji pada dataset final. Lalu kita dapat membandingkan akurasi data yang seimbang dan tidak seimbang nantinya."
      ],
      "metadata": {
        "id": "ND76iGy5yFgV"
      }
    },
    {
      "cell_type": "markdown",
      "source": [
        "# Create Model with Data Balanced"
      ],
      "metadata": {
        "id": "IQIZPM2iydxj"
      }
    },
    {
      "cell_type": "code",
      "source": [
        "# Mendefinisikan objek model, kode ini ada di sub Create Model Structure\n",
        "classifier2 = Sequential()\n",
        "classifier2.add(Dense(units=16, input_dim=29, activation='relu'))\n",
        "classifier2.add(Dense(24, activation='relu'))\n",
        "classifier2.add(Dropout(0.25))\n",
        "classifier2.add(Dense(20, activation='relu'))\n",
        "classifier2.add(Dense(24, activation='relu'))\n",
        "classifier2.add(Dense(1, activation='sigmoid'))\n",
        "classifier2.compile(optimizer='adam', loss='binary_crossentropy', metrics=['accuracy'])\n",
        "classifier2.summary()"
      ],
      "metadata": {
        "colab": {
          "base_uri": "https://localhost:8080/"
        },
        "id": "9yEePUdKyq2B",
        "outputId": "e27509bd-0752-428c-d3cf-df6da8949059"
      },
      "execution_count": null,
      "outputs": [
        {
          "output_type": "stream",
          "name": "stdout",
          "text": [
            "Model: \"sequential_3\"\n",
            "_________________________________________________________________\n",
            " Layer (type)                Output Shape              Param #   \n",
            "=================================================================\n",
            " dense_15 (Dense)            (None, 16)                480       \n",
            "                                                                 \n",
            " dense_16 (Dense)            (None, 24)                408       \n",
            "                                                                 \n",
            " dropout_3 (Dropout)         (None, 24)                0         \n",
            "                                                                 \n",
            " dense_17 (Dense)            (None, 20)                500       \n",
            "                                                                 \n",
            " dense_18 (Dense)            (None, 24)                504       \n",
            "                                                                 \n",
            " dense_19 (Dense)            (None, 1)                 25        \n",
            "                                                                 \n",
            "=================================================================\n",
            "Total params: 1917 (7.49 KB)\n",
            "Trainable params: 1917 (7.49 KB)\n",
            "Non-trainable params: 0 (0.00 Byte)\n",
            "_________________________________________________________________\n"
          ]
        }
      ]
    },
    {
      "cell_type": "markdown",
      "source": [
        "# Training Process Data Balanced"
      ],
      "metadata": {
        "id": "t4C8kR9W1vhV"
      }
    },
    {
      "cell_type": "code",
      "source": [
        "# Proses Training\n",
        "run_model2 = classifier2.fit(X_train2, y_train2, batch_size=8,\n",
        "                           epochs=5, verbose=1, validation_data=(X_validate2, y_validate2))"
      ],
      "metadata": {
        "colab": {
          "base_uri": "https://localhost:8080/"
        },
        "id": "aFniRQABzPyu",
        "outputId": "cb3dec67-770a-419b-da1a-75fc7a4c5d90"
      },
      "execution_count": null,
      "outputs": [
        {
          "output_type": "stream",
          "name": "stdout",
          "text": [
            "Epoch 1/5\n",
            "80/80 [==============================] - 2s 6ms/step - loss: 0.4761 - accuracy: 0.7547 - val_loss: 0.3736 - val_accuracy: 0.9125\n",
            "Epoch 2/5\n",
            "80/80 [==============================] - 0s 4ms/step - loss: 0.3223 - accuracy: 0.9135 - val_loss: 0.2751 - val_accuracy: 0.9250\n",
            "Epoch 3/5\n",
            "80/80 [==============================] - 0s 3ms/step - loss: 0.2530 - accuracy: 0.9292 - val_loss: 0.2382 - val_accuracy: 0.9125\n",
            "Epoch 4/5\n",
            "80/80 [==============================] - 0s 4ms/step - loss: 0.2105 - accuracy: 0.9324 - val_loss: 0.2264 - val_accuracy: 0.9125\n",
            "Epoch 5/5\n",
            "80/80 [==============================] - 0s 5ms/step - loss: 0.1725 - accuracy: 0.9513 - val_loss: 0.2235 - val_accuracy: 0.9125\n"
          ]
        }
      ]
    },
    {
      "cell_type": "code",
      "source": [
        "# Plot accuray training dengan accuracy validation\n",
        "plt.plot(run_model2.history['accuracy'])\n",
        "plt.plot(run_model2.history['val_accuracy'])\n",
        "plt.title('Model Accuracy')\n",
        "plt.ylabel('Accuracy')\n",
        "plt.xlabel('Epochs')\n",
        "plt.legend(['train','validate'], loc='upper left')\n",
        "plt.show()"
      ],
      "metadata": {
        "colab": {
          "base_uri": "https://localhost:8080/",
          "height": 472
        },
        "id": "2auem9bqzwSe",
        "outputId": "63c148a5-1769-41e5-bc33-15cc8c0368a2"
      },
      "execution_count": null,
      "outputs": [
        {
          "output_type": "display_data",
          "data": {
            "text/plain": [
              "<Figure size 640x480 with 1 Axes>"
            ],
            "image/png": "[encoded data removed]"
          },
          "metadata": {}
        }
      ]
    },
    {
      "cell_type": "markdown",
      "source": [
        "Hasil akurasi agak sedikit menurun, tapi itu bukan masalah karena sekarang data kita sudah balance dan model sudah belajar dengan benar."
      ],
      "metadata": {
        "id": "oJaHCu1WzhwT"
      }
    },
    {
      "cell_type": "code",
      "source": [
        "# Plot loss training dengan loss validation\n",
        "plt.plot(run_model2.history['loss'])\n",
        "plt.plot(run_model2.history['val_loss'])\n",
        "plt.title('Model loss')\n",
        "plt.ylabel('loss')\n",
        "plt.xlabel('Epochs')\n",
        "plt.legend(['train','validate'], loc='upper left')\n",
        "plt.show()"
      ],
      "metadata": {
        "colab": {
          "base_uri": "https://localhost:8080/",
          "height": 472
        },
        "id": "qnvsny-K1cIW",
        "outputId": "455c40e8-96de-4214-c583-796ff2dda2ca"
      },
      "execution_count": null,
      "outputs": [
        {
          "output_type": "display_data",
          "data": {
            "text/plain": [
              "<Figure size 640x480 with 1 Axes>"
            ],
            "image/png": "[encoded data removed]"
          },
          "metadata": {}
        }
      ]
    },
    {
      "cell_type": "markdown",
      "source": [
        "# Evaluate & Predict Process"
      ],
      "metadata": {
        "id": "kl656mbv2D1Q"
      }
    },
    {
      "cell_type": "code",
      "source": [
        "# Mengevaluasi model\n",
        "evaluasi2 = classifier2.evaluate(X_test2, y_test2)\n",
        "print('Akurasi: {:.2f}'.format(evaluasi2[1]*100))"
      ],
      "metadata": {
        "colab": {
          "base_uri": "https://localhost:8080/"
        },
        "id": "9BJPNLNn2DfI",
        "outputId": "3a35b4fd-3ea1-4695-bc7c-e7522d65e93e"
      },
      "execution_count": null,
      "outputs": [
        {
          "output_type": "stream",
          "name": "stdout",
          "text": [
            "3/3 [==============================] - 0s 5ms/step - loss: 0.2461 - accuracy: 0.8876\n",
            "Akurasi: 88.76\n"
          ]
        }
      ]
    },
    {
      "cell_type": "markdown",
      "source": [
        "Hasil akurasi pada data yang balance masih bagus"
      ],
      "metadata": {
        "id": "xTsw60-p2Pk3"
      }
    },
    {
      "cell_type": "code",
      "source": [
        "# Memprediksi test set\n",
        "hasil_prediksi2 = classifier2.predict(X_test2)\n",
        "hasil_prediksi2 = (hasil_prediksi2 > 0.5).astype(int)"
      ],
      "metadata": {
        "colab": {
          "base_uri": "https://localhost:8080/"
        },
        "id": "2z990rHc2SlC",
        "outputId": "327ee220-eab3-461b-88dc-b0454c5f9e30"
      },
      "execution_count": null,
      "outputs": [
        {
          "output_type": "stream",
          "name": "stdout",
          "text": [
            "3/3 [==============================] - 0s 8ms/step\n"
          ]
        }
      ]
    },
    {
      "cell_type": "code",
      "source": [
        "# Membuat confusion matrix\n",
        "cm2 = confusion_matrix(y_test2, hasil_prediksi2)\n",
        "\n",
        "# Membuat plot hasil confusion matrix\n",
        "cm_label2 = pd.DataFrame(cm2, columns=np.unique(y_test2), index=np.unique(y_test2))\n",
        "cm_label2.index.name = 'Aktual'\n",
        "cm_label2.columns.name = 'Prediksi'\n",
        "sns.heatmap(cm_label2, annot=True, cmap='Reds', fmt='g')"
      ],
      "metadata": {
        "colab": {
          "base_uri": "https://localhost:8080/",
          "height": 467
        },
        "id": "FZmUoLnM2dap",
        "outputId": "85eacdd0-924b-4afd-ea55-eca26cf31543"
      },
      "execution_count": null,
      "outputs": [
        {
          "output_type": "execute_result",
          "data": {
            "text/plain": [
              "<Axes: xlabel='Prediksi', ylabel='Aktual'>"
            ]
          },
          "metadata": {},
          "execution_count": 115
        },
        {
          "output_type": "display_data",
          "data": {
            "text/plain": [
              "<Figure size 640x480 with 2 Axes>"
            ],
            "image/png": "[encoded data removed]"
          },
          "metadata": {}
        }
      ]
    },
    {
      "cell_type": "markdown",
      "source": [
        "Hasil dari confusion matrix juga masih sangat baik."
      ],
      "metadata": {
        "id": "6e_7YM_83B-k"
      }
    },
    {
      "cell_type": "code",
      "source": [
        "jumlah_kategori = 2\n",
        "target_names = ['Class {}'.format(i) for i in range(jumlah_kategori)]\n",
        "print(classification_report(y_test2, hasil_prediksi2, target_names=target_names))"
      ],
      "metadata": {
        "colab": {
          "base_uri": "https://localhost:8080/"
        },
        "id": "IPDsDKvi3KXQ",
        "outputId": "a3d7f235-df63-45ff-b8ee-77a10f4e1a78"
      },
      "execution_count": null,
      "outputs": [
        {
          "output_type": "stream",
          "name": "stdout",
          "text": [
            "              precision    recall  f1-score   support\n",
            "\n",
            "     Class 0       0.84      0.93      0.88        41\n",
            "     Class 1       0.93      0.85      0.89        48\n",
            "\n",
            "    accuracy                           0.89        89\n",
            "   macro avg       0.89      0.89      0.89        89\n",
            "weighted avg       0.89      0.89      0.89        89\n",
            "\n"
          ]
        }
      ]
    },
    {
      "cell_type": "markdown",
      "source": [
        "Hasil classification report menunjukan hasil yang bagus pada data yang sudah balance."
      ],
      "metadata": {
        "id": "qRlz8ejD3PJN"
      }
    },
    {
      "cell_type": "markdown",
      "source": [
        "# Predict Test Set Final"
      ],
      "metadata": {
        "id": "Uo83uqvq3V2h"
      }
    },
    {
      "cell_type": "markdown",
      "source": [
        "Kita akan memeriksa lagi apakah model yang sudah kita evaluasi dan kita uji sudah cukup baik jika bertemu dengan data yang tidak pernah dilihat atau asing."
      ],
      "metadata": {
        "id": "VoR0JpIc3g1F"
      }
    },
    {
      "cell_type": "code",
      "source": [
        "# Memprediksi test set\n",
        "hasil_prediksi3 = classifier2.predict(X_test_final)\n",
        "hasil_prediksi3 = (hasil_prediksi3 > 0.5).astype(int)"
      ],
      "metadata": {
        "colab": {
          "base_uri": "https://localhost:8080/"
        },
        "id": "sujlUcFS3xP3",
        "outputId": "b2884489-9f01-4f80-c837-1e659e5d1b8a"
      },
      "execution_count": null,
      "outputs": [
        {
          "output_type": "stream",
          "name": "stdout",
          "text": [
            "4/4 [==============================] - 0s 8ms/step\n"
          ]
        }
      ]
    },
    {
      "cell_type": "code",
      "source": [
        "# Membuat confusion matrix\n",
        "cm3 = confusion_matrix(y_test_final, hasil_prediksi3)\n",
        "\n",
        "# Membuat plot hasil confusion matrix\n",
        "cm_label3 = pd.DataFrame(cm3, columns=np.unique(y_test_final), index=np.unique(y_test_final))\n",
        "cm_label3.index.name = 'Aktual'\n",
        "cm_label3.columns.name = 'Prediksi'\n",
        "sns.heatmap(cm_label3, annot=True, cmap='Reds', fmt='g')"
      ],
      "metadata": {
        "colab": {
          "base_uri": "https://localhost:8080/",
          "height": 467
        },
        "id": "JPj95z0G38ZO",
        "outputId": "d2625fb2-ca23-431b-900a-a6e1611f8af4"
      },
      "execution_count": null,
      "outputs": [
        {
          "output_type": "execute_result",
          "data": {
            "text/plain": [
              "<Axes: xlabel='Prediksi', ylabel='Aktual'>"
            ]
          },
          "metadata": {},
          "execution_count": 118
        },
        {
          "output_type": "display_data",
          "data": {
            "text/plain": [
              "<Figure size 640x480 with 2 Axes>"
            ],
            "image/png": "[encoded data removed]"
          },
          "metadata": {}
        }
      ]
    },
    {
      "cell_type": "code",
      "source": [
        "jumlah_kategori = 2\n",
        "target_names = ['Class {}'.format(i) for i in range(jumlah_kategori)]\n",
        "print(classification_report(y_test_final, hasil_prediksi3, target_names=target_names))"
      ],
      "metadata": {
        "colab": {
          "base_uri": "https://localhost:8080/"
        },
        "id": "bsiKy5-L4T1D",
        "outputId": "129a08d2-988d-4576-fedc-6afc7940bbdc"
      },
      "execution_count": null,
      "outputs": [
        {
          "output_type": "stream",
          "name": "stdout",
          "text": [
            "              precision    recall  f1-score   support\n",
            "\n",
            "     Class 0       0.93      0.98      0.96        56\n",
            "     Class 1       0.97      0.91      0.94        43\n",
            "\n",
            "    accuracy                           0.95        99\n",
            "   macro avg       0.95      0.94      0.95        99\n",
            "weighted avg       0.95      0.95      0.95        99\n",
            "\n"
          ]
        }
      ]
    },
    {
      "cell_type": "markdown",
      "source": [
        "Model data kita yang sudah balance, ternyata mampu memprediksi data di dunia nyata, atau data yang belum pernah dilihat sebelumnya. Maka model kita sudah ready untuk di deploy di cloud, atau secara offline."
      ],
      "metadata": {
        "id": "kB1tY9824h4D"
      }
    }
  ]
}